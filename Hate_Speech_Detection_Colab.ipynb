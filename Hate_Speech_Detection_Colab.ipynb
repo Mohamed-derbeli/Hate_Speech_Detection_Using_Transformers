{
  "cells": [
    {
      "cell_type": "markdown",
      "metadata": {
        "id": "view-in-github",
        "colab_type": "text"
      },
      "source": [
        "<a href=\"https://colab.research.google.com/github/Mohamed-derbeli/Hate_Speech_Detection_Using_Transformers/blob/main/Hate_Speech_Detection_Colab.ipynb\" target=\"_parent\"><img src=\"https://colab.research.google.com/assets/colab-badge.svg\" alt=\"Open In Colab\"/></a>"
      ]
    },
    {
      "cell_type": "markdown",
      "id": "bc2a38b9",
      "metadata": {
        "id": "bc2a38b9"
      },
      "source": [
        "### Import Libraries"
      ]
    },
    {
      "cell_type": "code",
      "execution_count": 1,
      "id": "924db571",
      "metadata": {
        "colab": {
          "base_uri": "https://localhost:8080/"
        },
        "id": "924db571",
        "outputId": "5e438c91-774b-44da-c8ba-2f5a3a0b89bb"
      },
      "outputs": [
        {
          "output_type": "stream",
          "name": "stderr",
          "text": [
            "[nltk_data] Downloading package stopwords to /root/nltk_data...\n",
            "[nltk_data]   Package stopwords is already up-to-date!\n",
            "[nltk_data] Downloading package punkt to /root/nltk_data...\n",
            "[nltk_data]   Package punkt is already up-to-date!\n",
            "[nltk_data] Downloading package wordnet to /root/nltk_data...\n",
            "[nltk_data]   Package wordnet is already up-to-date!\n",
            "[nltk_data] Downloading package averaged_perceptron_tagger to\n",
            "[nltk_data]     /root/nltk_data...\n",
            "[nltk_data]   Package averaged_perceptron_tagger is already up-to-\n",
            "[nltk_data]       date!\n",
            "[nltk_data] Downloading package omw-1.4 to /root/nltk_data...\n",
            "[nltk_data]   Package omw-1.4 is already up-to-date!\n"
          ]
        },
        {
          "output_type": "stream",
          "name": "stdout",
          "text": [
            "Drive already mounted at /content/drive; to attempt to forcibly remount, call drive.mount(\"/content/drive\", force_remount=True).\n"
          ]
        }
      ],
      "source": [
        "import pandas as pd\n",
        "import numpy as np\n",
        "import seaborn as sns\n",
        "import matplotlib.pyplot as plt\n",
        "%matplotlib inline\n",
        "from matplotlib.pylab import rcParams\n",
        "rcParams['figure.figsize']=20,10\n",
        "from scipy import stats\n",
        "import pickle\n",
        "\n",
        "import string\n",
        "import nltk\n",
        "nltk.download('stopwords')\n",
        "nltk.download('punkt')\n",
        "nltk.download('wordnet')\n",
        "nltk.download('averaged_perceptron_tagger') \n",
        "nltk.download('omw-1.4')\n",
        "\n",
        "# from nltk.tokenize import word_tokenize\n",
        "# from nltk.corpus import stopwords\n",
        "from nltk.stem import WordNetLemmatizer\n",
        "from nltk.stem.porter import *\n",
        "from wordcloud import WordCloud\n",
        "\n",
        "import tensorflow as tf\n",
        "from tensorflow.keras.preprocessing.text import Tokenizer\n",
        "from keras.utils import pad_sequences\n",
        "import tensorflow.keras.regularizers as regularizers\n",
        "from tensorflow.keras.models import Sequential\n",
        "from tensorflow.keras.layers import Embedding,LSTM,Dense,SpatialDropout1D\n",
        "\n",
        "from sklearn.model_selection import train_test_split\n",
        "from sklearn.metrics import classification_report\n",
        "from sklearn.metrics import confusion_matrix\n",
        "from sklearn.metrics import accuracy_score\n",
        "from sklearn.feature_extraction.text import CountVectorizer\n",
        "from sklearn.feature_extraction.text import TfidfVectorizer\n",
        "from sklearn.utils import resample\n",
        "import seaborn\n",
        "import pickle\n",
        "\n",
        "from google.colab import drive\n",
        "drive.mount('/content/drive')"
      ]
    },
    {
      "cell_type": "markdown",
      "id": "16343e83",
      "metadata": {
        "id": "16343e83"
      },
      "source": [
        "### Import Dataset"
      ]
    },
    {
      "cell_type": "code",
      "execution_count": 2,
      "id": "4375ca7d",
      "metadata": {
        "id": "4375ca7d"
      },
      "outputs": [],
      "source": [
        "url='https://raw.githubusercontent.com/Mohamed-derbeli/Hate_Speech_Detection_Using_Transformers/main/train_E6oV3lV.csv'\n",
        "\n",
        "df= pd.read_csv(url)"
      ]
    },
    {
      "cell_type": "code",
      "execution_count": 3,
      "id": "9cc3f6fd",
      "metadata": {
        "colab": {
          "base_uri": "https://localhost:8080/",
          "height": 990
        },
        "id": "9cc3f6fd",
        "outputId": "300387c0-9d95-4e4f-aeb6-71d461dc5953"
      },
      "outputs": [
        {
          "output_type": "execute_result",
          "data": {
            "text/plain": [
              "          id  label  \\\n",
              "436      437      0   \n",
              "5888    5889      1   \n",
              "4111    4112      0   \n",
              "4097    4098      0   \n",
              "25676  25677      1   \n",
              "16850  16851      0   \n",
              "16246  16247      0   \n",
              "30050  30051      0   \n",
              "19806  19807      0   \n",
              "1961    1962      0   \n",
              "27451  27452      0   \n",
              "21654  21655      1   \n",
              "23502  23503      0   \n",
              "28844  28845      0   \n",
              "4806    4807      0   \n",
              "13092  13093      0   \n",
              "11185  11186      0   \n",
              "1124    1125      0   \n",
              "29889  29890      0   \n",
              "1095    1096      0   \n",
              "2626    2627      0   \n",
              "9431    9432      0   \n",
              "3981    3982      0   \n",
              "8034    8035      0   \n",
              "9322    9323      0   \n",
              "14996  14997      0   \n",
              "7008    7009      0   \n",
              "24622  24623      0   \n",
              "22204  22205      0   \n",
              "27303  27304      0   \n",
              "\n",
              "                                                                                                                                             tweet  \n",
              "436                               fab &amp; interesting day at #eacbpm. now dash to a quiet place to dial into iiba emea region meeting #busy   :)  \n",
              "5888                                                                indianapolis colts black cheerleader hugs boy who used  slur. so. much. class   \n",
              "4111                                                           happy wednesday cornerhouse!! sharing the love! #fresh #student #living   #midweek   \n",
              "4097                                                  really enjoying this talk by @user #maps are inherently delightful ... so is thinking ...     \n",
              "25676                                                     @user video: @user on #hateful  #liberals \"#america has had enough of this crap!\"  @user  \n",
              "16850                                         the most cheesiest picture ever, but i love it ðâ¤  #love #cheese #wedding #husbandandwife  â¦   \n",
              "16246                                                                              @user looks like i have this outline nailed down.   #amwriting   \n",
              "30050                                     so   right now! #finally going to try some #hummus #beenunderarock #dizengoff #pita #pickles #zaatar...   \n",
              "19806                                                                   going back to that ballroom after 26 years.. omg, the memories!! #memory    \n",
              "1961                                                                                                                      @user same ððð   \n",
              "27451                                                another rushed morning lol that's my life have an amazing day #love #life   #goals#dreamsâ¦   \n",
              "21654                     @user hey! but the chinese are communists as well! oh but they're not white, that's right. i see. #dumbingdownofamerica   \n",
              "23502                                           i mean, okay. ðð¼ #nofilter #snapchat #selfie #safetyfirst #buckleup #cute #gay #gayboy  â¦   \n",
              "28844       senseless. heabroken. baffled. angry. no words to describe. #ripchristina . god needed your voice. my prayers to the grimmie family.    \n",
              "4806                                                              when #passion + #purpose collide = happy   #joy joy. #setlife #stauplife funâ¦   \n",
              "13092                                                                                     damn, this really made me tear up a little.   #mustread   \n",
              "11185  i wanted to be calm &amp; relaxed for my immunologist apt in a few days. now i get to live with more guilt over something that others did.   \n",
              "1124                                                                    @user i really wanted to come but my daughter really put her foot down.  .  \n",
              "29889                                            wait ... a lot of people post pics of their #dog on #socialmedia??! i dont feel so #special ...    \n",
              "1095                       bihday #brother #cool #thebomb #åææ #ãã£ã¨ãã¦ããã #å¥å¤ªãã¼ãº #ç¬ #ã»ãããããã°ãâ   \n",
              "2626                                        mood. ðð¼ðð #mood #crown #love   #fashionforacause #femaleempowerment #femalemotivationâ¦   \n",
              "9431                                                                                                                     summer is finally here     \n",
              "3981                                                              you can break that bad habit â¸ | #success #courage #education   #choices #cope  \n",
              "8034                                                             i like summer ðâï¸ð #summer #swim #swimming #sun #sunny #sea #seaside     \n",
              "9322                                                                                                     review: lumie bodyclock staer #review      \n",
              "14996                                    @user @user @user @user lucy is a national disgrace. harming women who truthfully suffer sexual assault    \n",
              "7008                                                 in the mixture of emotions, here's a   one from the weekend w/@user thx @user + @user #pride   \n",
              "24622                    my mother has both #parkinsons and very deep #depression and has given up on docs/meds. was never a quitter, until now.    \n",
              "22204                                                                              @user keyboard warriors typing anything for retweets.   #wakeup  \n",
              "27303                                                  @user had a great bihday ððâ¤ï¸ ! this is only pa 1 ! pa 2 will be this saturday     "
            ],
            "text/html": [
              "\n",
              "  <div id=\"df-cf049c85-5cba-4d0a-974c-31b26dadf89c\">\n",
              "    <div class=\"colab-df-container\">\n",
              "      <div>\n",
              "<style scoped>\n",
              "    .dataframe tbody tr th:only-of-type {\n",
              "        vertical-align: middle;\n",
              "    }\n",
              "\n",
              "    .dataframe tbody tr th {\n",
              "        vertical-align: top;\n",
              "    }\n",
              "\n",
              "    .dataframe thead th {\n",
              "        text-align: right;\n",
              "    }\n",
              "</style>\n",
              "<table border=\"1\" class=\"dataframe\">\n",
              "  <thead>\n",
              "    <tr style=\"text-align: right;\">\n",
              "      <th></th>\n",
              "      <th>id</th>\n",
              "      <th>label</th>\n",
              "      <th>tweet</th>\n",
              "    </tr>\n",
              "  </thead>\n",
              "  <tbody>\n",
              "    <tr>\n",
              "      <th>436</th>\n",
              "      <td>437</td>\n",
              "      <td>0</td>\n",
              "      <td>fab &amp;amp; interesting day at #eacbpm. now dash to a quiet place to dial into iiba emea region meeting #busy   :)</td>\n",
              "    </tr>\n",
              "    <tr>\n",
              "      <th>5888</th>\n",
              "      <td>5889</td>\n",
              "      <td>1</td>\n",
              "      <td>indianapolis colts black cheerleader hugs boy who used  slur. so. much. class</td>\n",
              "    </tr>\n",
              "    <tr>\n",
              "      <th>4111</th>\n",
              "      <td>4112</td>\n",
              "      <td>0</td>\n",
              "      <td>happy wednesday cornerhouse!! sharing the love! #fresh #student #living   #midweek</td>\n",
              "    </tr>\n",
              "    <tr>\n",
              "      <th>4097</th>\n",
              "      <td>4098</td>\n",
              "      <td>0</td>\n",
              "      <td>really enjoying this talk by @user #maps are inherently delightful ... so is thinking ...</td>\n",
              "    </tr>\n",
              "    <tr>\n",
              "      <th>25676</th>\n",
              "      <td>25677</td>\n",
              "      <td>1</td>\n",
              "      <td>@user video: @user on #hateful  #liberals \"#america has had enough of this crap!\"  @user</td>\n",
              "    </tr>\n",
              "    <tr>\n",
              "      <th>16850</th>\n",
              "      <td>16851</td>\n",
              "      <td>0</td>\n",
              "      <td>the most cheesiest picture ever, but i love it ðâ¤  #love #cheese #wedding #husbandandwife  â¦</td>\n",
              "    </tr>\n",
              "    <tr>\n",
              "      <th>16246</th>\n",
              "      <td>16247</td>\n",
              "      <td>0</td>\n",
              "      <td>@user looks like i have this outline nailed down.   #amwriting</td>\n",
              "    </tr>\n",
              "    <tr>\n",
              "      <th>30050</th>\n",
              "      <td>30051</td>\n",
              "      <td>0</td>\n",
              "      <td>so   right now! #finally going to try some #hummus #beenunderarock #dizengoff #pita #pickles #zaatar...</td>\n",
              "    </tr>\n",
              "    <tr>\n",
              "      <th>19806</th>\n",
              "      <td>19807</td>\n",
              "      <td>0</td>\n",
              "      <td>going back to that ballroom after 26 years.. omg, the memories!! #memory</td>\n",
              "    </tr>\n",
              "    <tr>\n",
              "      <th>1961</th>\n",
              "      <td>1962</td>\n",
              "      <td>0</td>\n",
              "      <td>@user same ððð</td>\n",
              "    </tr>\n",
              "    <tr>\n",
              "      <th>27451</th>\n",
              "      <td>27452</td>\n",
              "      <td>0</td>\n",
              "      <td>another rushed morning lol that's my life have an amazing day #love #life   #goals#dreamsâ¦</td>\n",
              "    </tr>\n",
              "    <tr>\n",
              "      <th>21654</th>\n",
              "      <td>21655</td>\n",
              "      <td>1</td>\n",
              "      <td>@user hey! but the chinese are communists as well! oh but they're not white, that's right. i see. #dumbingdownofamerica</td>\n",
              "    </tr>\n",
              "    <tr>\n",
              "      <th>23502</th>\n",
              "      <td>23503</td>\n",
              "      <td>0</td>\n",
              "      <td>i mean, okay. ðð¼ #nofilter #snapchat #selfie #safetyfirst #buckleup #cute #gay #gayboy  â¦</td>\n",
              "    </tr>\n",
              "    <tr>\n",
              "      <th>28844</th>\n",
              "      <td>28845</td>\n",
              "      <td>0</td>\n",
              "      <td>senseless. heabroken. baffled. angry. no words to describe. #ripchristina . god needed your voice. my prayers to the grimmie family.</td>\n",
              "    </tr>\n",
              "    <tr>\n",
              "      <th>4806</th>\n",
              "      <td>4807</td>\n",
              "      <td>0</td>\n",
              "      <td>when #passion + #purpose collide = happy   #joy joy. #setlife #stauplife funâ¦</td>\n",
              "    </tr>\n",
              "    <tr>\n",
              "      <th>13092</th>\n",
              "      <td>13093</td>\n",
              "      <td>0</td>\n",
              "      <td>damn, this really made me tear up a little.   #mustread</td>\n",
              "    </tr>\n",
              "    <tr>\n",
              "      <th>11185</th>\n",
              "      <td>11186</td>\n",
              "      <td>0</td>\n",
              "      <td>i wanted to be calm &amp;amp; relaxed for my immunologist apt in a few days. now i get to live with more guilt over something that others did.</td>\n",
              "    </tr>\n",
              "    <tr>\n",
              "      <th>1124</th>\n",
              "      <td>1125</td>\n",
              "      <td>0</td>\n",
              "      <td>@user i really wanted to come but my daughter really put her foot down.  .</td>\n",
              "    </tr>\n",
              "    <tr>\n",
              "      <th>29889</th>\n",
              "      <td>29890</td>\n",
              "      <td>0</td>\n",
              "      <td>wait ... a lot of people post pics of their #dog on #socialmedia??! i dont feel so #special ...</td>\n",
              "    </tr>\n",
              "    <tr>\n",
              "      <th>1095</th>\n",
              "      <td>1096</td>\n",
              "      <td>0</td>\n",
              "      <td>bihday #brother #cool #thebomb #åææ #ãã£ã¨ãã¦ããã #å¥å¤ªãã¼ãº #ç¬ #ã»ãããããã°ãâ</td>\n",
              "    </tr>\n",
              "    <tr>\n",
              "      <th>2626</th>\n",
              "      <td>2627</td>\n",
              "      <td>0</td>\n",
              "      <td>mood. ðð¼ðð #mood #crown #love   #fashionforacause #femaleempowerment #femalemotivationâ¦</td>\n",
              "    </tr>\n",
              "    <tr>\n",
              "      <th>9431</th>\n",
              "      <td>9432</td>\n",
              "      <td>0</td>\n",
              "      <td>summer is finally here</td>\n",
              "    </tr>\n",
              "    <tr>\n",
              "      <th>3981</th>\n",
              "      <td>3982</td>\n",
              "      <td>0</td>\n",
              "      <td>you can break that bad habit â¸ | #success #courage #education   #choices #cope</td>\n",
              "    </tr>\n",
              "    <tr>\n",
              "      <th>8034</th>\n",
              "      <td>8035</td>\n",
              "      <td>0</td>\n",
              "      <td>i like summer ðâï¸ð #summer #swim #swimming #sun #sunny #sea #seaside</td>\n",
              "    </tr>\n",
              "    <tr>\n",
              "      <th>9322</th>\n",
              "      <td>9323</td>\n",
              "      <td>0</td>\n",
              "      <td>review: lumie bodyclock staer #review</td>\n",
              "    </tr>\n",
              "    <tr>\n",
              "      <th>14996</th>\n",
              "      <td>14997</td>\n",
              "      <td>0</td>\n",
              "      <td>@user @user @user @user lucy is a national disgrace. harming women who truthfully suffer sexual assault</td>\n",
              "    </tr>\n",
              "    <tr>\n",
              "      <th>7008</th>\n",
              "      <td>7009</td>\n",
              "      <td>0</td>\n",
              "      <td>in the mixture of emotions, here's a   one from the weekend w/@user thx @user + @user #pride</td>\n",
              "    </tr>\n",
              "    <tr>\n",
              "      <th>24622</th>\n",
              "      <td>24623</td>\n",
              "      <td>0</td>\n",
              "      <td>my mother has both #parkinsons and very deep #depression and has given up on docs/meds. was never a quitter, until now.</td>\n",
              "    </tr>\n",
              "    <tr>\n",
              "      <th>22204</th>\n",
              "      <td>22205</td>\n",
              "      <td>0</td>\n",
              "      <td>@user keyboard warriors typing anything for retweets.   #wakeup</td>\n",
              "    </tr>\n",
              "    <tr>\n",
              "      <th>27303</th>\n",
              "      <td>27304</td>\n",
              "      <td>0</td>\n",
              "      <td>@user had a great bihday ððâ¤ï¸ ! this is only pa 1 ! pa 2 will be this saturday</td>\n",
              "    </tr>\n",
              "  </tbody>\n",
              "</table>\n",
              "</div>\n",
              "      <button class=\"colab-df-convert\" onclick=\"convertToInteractive('df-cf049c85-5cba-4d0a-974c-31b26dadf89c')\"\n",
              "              title=\"Convert this dataframe to an interactive table.\"\n",
              "              style=\"display:none;\">\n",
              "        \n",
              "  <svg xmlns=\"http://www.w3.org/2000/svg\" height=\"24px\"viewBox=\"0 0 24 24\"\n",
              "       width=\"24px\">\n",
              "    <path d=\"M0 0h24v24H0V0z\" fill=\"none\"/>\n",
              "    <path d=\"M18.56 5.44l.94 2.06.94-2.06 2.06-.94-2.06-.94-.94-2.06-.94 2.06-2.06.94zm-11 1L8.5 8.5l.94-2.06 2.06-.94-2.06-.94L8.5 2.5l-.94 2.06-2.06.94zm10 10l.94 2.06.94-2.06 2.06-.94-2.06-.94-.94-2.06-.94 2.06-2.06.94z\"/><path d=\"M17.41 7.96l-1.37-1.37c-.4-.4-.92-.59-1.43-.59-.52 0-1.04.2-1.43.59L10.3 9.45l-7.72 7.72c-.78.78-.78 2.05 0 2.83L4 21.41c.39.39.9.59 1.41.59.51 0 1.02-.2 1.41-.59l7.78-7.78 2.81-2.81c.8-.78.8-2.07 0-2.86zM5.41 20L4 18.59l7.72-7.72 1.47 1.35L5.41 20z\"/>\n",
              "  </svg>\n",
              "      </button>\n",
              "      \n",
              "  <style>\n",
              "    .colab-df-container {\n",
              "      display:flex;\n",
              "      flex-wrap:wrap;\n",
              "      gap: 12px;\n",
              "    }\n",
              "\n",
              "    .colab-df-convert {\n",
              "      background-color: #E8F0FE;\n",
              "      border: none;\n",
              "      border-radius: 50%;\n",
              "      cursor: pointer;\n",
              "      display: none;\n",
              "      fill: #1967D2;\n",
              "      height: 32px;\n",
              "      padding: 0 0 0 0;\n",
              "      width: 32px;\n",
              "    }\n",
              "\n",
              "    .colab-df-convert:hover {\n",
              "      background-color: #E2EBFA;\n",
              "      box-shadow: 0px 1px 2px rgba(60, 64, 67, 0.3), 0px 1px 3px 1px rgba(60, 64, 67, 0.15);\n",
              "      fill: #174EA6;\n",
              "    }\n",
              "\n",
              "    [theme=dark] .colab-df-convert {\n",
              "      background-color: #3B4455;\n",
              "      fill: #D2E3FC;\n",
              "    }\n",
              "\n",
              "    [theme=dark] .colab-df-convert:hover {\n",
              "      background-color: #434B5C;\n",
              "      box-shadow: 0px 1px 3px 1px rgba(0, 0, 0, 0.15);\n",
              "      filter: drop-shadow(0px 1px 2px rgba(0, 0, 0, 0.3));\n",
              "      fill: #FFFFFF;\n",
              "    }\n",
              "  </style>\n",
              "\n",
              "      <script>\n",
              "        const buttonEl =\n",
              "          document.querySelector('#df-cf049c85-5cba-4d0a-974c-31b26dadf89c button.colab-df-convert');\n",
              "        buttonEl.style.display =\n",
              "          google.colab.kernel.accessAllowed ? 'block' : 'none';\n",
              "\n",
              "        async function convertToInteractive(key) {\n",
              "          const element = document.querySelector('#df-cf049c85-5cba-4d0a-974c-31b26dadf89c');\n",
              "          const dataTable =\n",
              "            await google.colab.kernel.invokeFunction('convertToInteractive',\n",
              "                                                     [key], {});\n",
              "          if (!dataTable) return;\n",
              "\n",
              "          const docLinkHtml = 'Like what you see? Visit the ' +\n",
              "            '<a target=\"_blank\" href=https://colab.research.google.com/notebooks/data_table.ipynb>data table notebook</a>'\n",
              "            + ' to learn more about interactive tables.';\n",
              "          element.innerHTML = '';\n",
              "          dataTable['output_type'] = 'display_data';\n",
              "          await google.colab.output.renderOutput(dataTable, element);\n",
              "          const docLink = document.createElement('div');\n",
              "          docLink.innerHTML = docLinkHtml;\n",
              "          element.appendChild(docLink);\n",
              "        }\n",
              "      </script>\n",
              "    </div>\n",
              "  </div>\n",
              "  "
            ]
          },
          "metadata": {},
          "execution_count": 3
        }
      ],
      "source": [
        "pd.set_option('display.max_colwidth', None)\n",
        "df.sample(30)"
      ]
    },
    {
      "cell_type": "code",
      "execution_count": 4,
      "id": "a1751437",
      "metadata": {
        "colab": {
          "base_uri": "https://localhost:8080/",
          "height": 238
        },
        "id": "a1751437",
        "outputId": "92e278d9-49c6-4f61-9a2a-ae6ec01a42c5"
      },
      "outputs": [
        {
          "output_type": "execute_result",
          "data": {
            "text/plain": [
              "       label  \\\n",
              "id             \n",
              "13953      0   \n",
              "17451      0   \n",
              "14754      0   \n",
              "6169       0   \n",
              "6283       0   \n",
              "\n",
              "                                                                                                        tweet  \n",
              "id                                                                                                             \n",
              "13953             @user happy people vs unhappy people  #mindfulness   #stress #socialmedia #quotes #friends   \n",
              "17451  1k!!!! we are sooo happy. thank you all ððð #clubtuas #1k #followers   #amazing #thankyouâ¦   \n",
              "14754                                            good friends!!!!!â¤ lovin life! #lifted  #friends #homeâ¦   \n",
              "6169                                  safe ways to heal your #acne!!    #altwaystoheal #healthy   #healing!!   \n",
              "6283                                                on route to ally pally #boxcup @user   @user @user @user   "
            ],
            "text/html": [
              "\n",
              "  <div id=\"df-c26f1000-8088-4e56-b5fd-0115dce7c7cf\">\n",
              "    <div class=\"colab-df-container\">\n",
              "      <div>\n",
              "<style scoped>\n",
              "    .dataframe tbody tr th:only-of-type {\n",
              "        vertical-align: middle;\n",
              "    }\n",
              "\n",
              "    .dataframe tbody tr th {\n",
              "        vertical-align: top;\n",
              "    }\n",
              "\n",
              "    .dataframe thead th {\n",
              "        text-align: right;\n",
              "    }\n",
              "</style>\n",
              "<table border=\"1\" class=\"dataframe\">\n",
              "  <thead>\n",
              "    <tr style=\"text-align: right;\">\n",
              "      <th></th>\n",
              "      <th>label</th>\n",
              "      <th>tweet</th>\n",
              "    </tr>\n",
              "    <tr>\n",
              "      <th>id</th>\n",
              "      <th></th>\n",
              "      <th></th>\n",
              "    </tr>\n",
              "  </thead>\n",
              "  <tbody>\n",
              "    <tr>\n",
              "      <th>13953</th>\n",
              "      <td>0</td>\n",
              "      <td>@user happy people vs unhappy people  #mindfulness   #stress #socialmedia #quotes #friends</td>\n",
              "    </tr>\n",
              "    <tr>\n",
              "      <th>17451</th>\n",
              "      <td>0</td>\n",
              "      <td>1k!!!! we are sooo happy. thank you all ððð #clubtuas #1k #followers   #amazing #thankyouâ¦</td>\n",
              "    </tr>\n",
              "    <tr>\n",
              "      <th>14754</th>\n",
              "      <td>0</td>\n",
              "      <td>good friends!!!!!â¤ lovin life! #lifted  #friends #homeâ¦</td>\n",
              "    </tr>\n",
              "    <tr>\n",
              "      <th>6169</th>\n",
              "      <td>0</td>\n",
              "      <td>safe ways to heal your #acne!!    #altwaystoheal #healthy   #healing!!</td>\n",
              "    </tr>\n",
              "    <tr>\n",
              "      <th>6283</th>\n",
              "      <td>0</td>\n",
              "      <td>on route to ally pally #boxcup @user   @user @user @user</td>\n",
              "    </tr>\n",
              "  </tbody>\n",
              "</table>\n",
              "</div>\n",
              "      <button class=\"colab-df-convert\" onclick=\"convertToInteractive('df-c26f1000-8088-4e56-b5fd-0115dce7c7cf')\"\n",
              "              title=\"Convert this dataframe to an interactive table.\"\n",
              "              style=\"display:none;\">\n",
              "        \n",
              "  <svg xmlns=\"http://www.w3.org/2000/svg\" height=\"24px\"viewBox=\"0 0 24 24\"\n",
              "       width=\"24px\">\n",
              "    <path d=\"M0 0h24v24H0V0z\" fill=\"none\"/>\n",
              "    <path d=\"M18.56 5.44l.94 2.06.94-2.06 2.06-.94-2.06-.94-.94-2.06-.94 2.06-2.06.94zm-11 1L8.5 8.5l.94-2.06 2.06-.94-2.06-.94L8.5 2.5l-.94 2.06-2.06.94zm10 10l.94 2.06.94-2.06 2.06-.94-2.06-.94-.94-2.06-.94 2.06-2.06.94z\"/><path d=\"M17.41 7.96l-1.37-1.37c-.4-.4-.92-.59-1.43-.59-.52 0-1.04.2-1.43.59L10.3 9.45l-7.72 7.72c-.78.78-.78 2.05 0 2.83L4 21.41c.39.39.9.59 1.41.59.51 0 1.02-.2 1.41-.59l7.78-7.78 2.81-2.81c.8-.78.8-2.07 0-2.86zM5.41 20L4 18.59l7.72-7.72 1.47 1.35L5.41 20z\"/>\n",
              "  </svg>\n",
              "      </button>\n",
              "      \n",
              "  <style>\n",
              "    .colab-df-container {\n",
              "      display:flex;\n",
              "      flex-wrap:wrap;\n",
              "      gap: 12px;\n",
              "    }\n",
              "\n",
              "    .colab-df-convert {\n",
              "      background-color: #E8F0FE;\n",
              "      border: none;\n",
              "      border-radius: 50%;\n",
              "      cursor: pointer;\n",
              "      display: none;\n",
              "      fill: #1967D2;\n",
              "      height: 32px;\n",
              "      padding: 0 0 0 0;\n",
              "      width: 32px;\n",
              "    }\n",
              "\n",
              "    .colab-df-convert:hover {\n",
              "      background-color: #E2EBFA;\n",
              "      box-shadow: 0px 1px 2px rgba(60, 64, 67, 0.3), 0px 1px 3px 1px rgba(60, 64, 67, 0.15);\n",
              "      fill: #174EA6;\n",
              "    }\n",
              "\n",
              "    [theme=dark] .colab-df-convert {\n",
              "      background-color: #3B4455;\n",
              "      fill: #D2E3FC;\n",
              "    }\n",
              "\n",
              "    [theme=dark] .colab-df-convert:hover {\n",
              "      background-color: #434B5C;\n",
              "      box-shadow: 0px 1px 3px 1px rgba(0, 0, 0, 0.15);\n",
              "      filter: drop-shadow(0px 1px 2px rgba(0, 0, 0, 0.3));\n",
              "      fill: #FFFFFF;\n",
              "    }\n",
              "  </style>\n",
              "\n",
              "      <script>\n",
              "        const buttonEl =\n",
              "          document.querySelector('#df-c26f1000-8088-4e56-b5fd-0115dce7c7cf button.colab-df-convert');\n",
              "        buttonEl.style.display =\n",
              "          google.colab.kernel.accessAllowed ? 'block' : 'none';\n",
              "\n",
              "        async function convertToInteractive(key) {\n",
              "          const element = document.querySelector('#df-c26f1000-8088-4e56-b5fd-0115dce7c7cf');\n",
              "          const dataTable =\n",
              "            await google.colab.kernel.invokeFunction('convertToInteractive',\n",
              "                                                     [key], {});\n",
              "          if (!dataTable) return;\n",
              "\n",
              "          const docLinkHtml = 'Like what you see? Visit the ' +\n",
              "            '<a target=\"_blank\" href=https://colab.research.google.com/notebooks/data_table.ipynb>data table notebook</a>'\n",
              "            + ' to learn more about interactive tables.';\n",
              "          element.innerHTML = '';\n",
              "          dataTable['output_type'] = 'display_data';\n",
              "          await google.colab.output.renderOutput(dataTable, element);\n",
              "          const docLink = document.createElement('div');\n",
              "          docLink.innerHTML = docLinkHtml;\n",
              "          element.appendChild(docLink);\n",
              "        }\n",
              "      </script>\n",
              "    </div>\n",
              "  </div>\n",
              "  "
            ]
          },
          "metadata": {},
          "execution_count": 4
        }
      ],
      "source": [
        "df.index=df[\"id\"]\n",
        "df.drop('id', axis=1, inplace=True)\n",
        "df.sample(5)"
      ]
    },
    {
      "cell_type": "markdown",
      "id": "96bd644b",
      "metadata": {
        "id": "96bd644b"
      },
      "source": [
        "### Data Analysis"
      ]
    },
    {
      "cell_type": "code",
      "execution_count": 5,
      "id": "20606f8f",
      "metadata": {
        "colab": {
          "base_uri": "https://localhost:8080/"
        },
        "id": "20606f8f",
        "outputId": "251a530d-808a-42cf-d2c3-cf05b37bcc93"
      },
      "outputs": [
        {
          "output_type": "stream",
          "name": "stdout",
          "text": [
            "Number of Observations: 31962\n",
            "Number of Features: 2\n"
          ]
        }
      ],
      "source": [
        "print(f'Number of Observations: {df.shape[0]}')\n",
        "print(f'Number of Features: {df.shape[1]}')"
      ]
    },
    {
      "cell_type": "code",
      "execution_count": 6,
      "id": "7fdbfdb9",
      "metadata": {
        "colab": {
          "base_uri": "https://localhost:8080/"
        },
        "id": "7fdbfdb9",
        "outputId": "f8b58b96-19be-48be-a210-df4d4d4347aa"
      },
      "outputs": [
        {
          "output_type": "execute_result",
          "data": {
            "text/plain": [
              "label    0\n",
              "tweet    0\n",
              "dtype: int64"
            ]
          },
          "metadata": {},
          "execution_count": 6
        }
      ],
      "source": [
        "#  Check the Missing Value\n",
        "df.isnull().sum()"
      ]
    },
    {
      "cell_type": "code",
      "execution_count": 7,
      "id": "4a6669e3",
      "metadata": {
        "colab": {
          "base_uri": "https://localhost:8080/"
        },
        "id": "4a6669e3",
        "outputId": "0766d6ba-fe24-481b-a294-37994aabf77d"
      },
      "outputs": [
        {
          "output_type": "stream",
          "name": "stdout",
          "text": [
            "<class 'pandas.core.frame.DataFrame'>\n",
            "Int64Index: 31962 entries, 1 to 31962\n",
            "Data columns (total 2 columns):\n",
            " #   Column  Non-Null Count  Dtype \n",
            "---  ------  --------------  ----- \n",
            " 0   label   31962 non-null  int64 \n",
            " 1   tweet   31962 non-null  object\n",
            "dtypes: int64(1), object(1)\n",
            "memory usage: 749.1+ KB\n"
          ]
        }
      ],
      "source": [
        "df.info()"
      ]
    },
    {
      "cell_type": "code",
      "execution_count": 8,
      "id": "811e4892",
      "metadata": {
        "colab": {
          "base_uri": "https://localhost:8080/"
        },
        "id": "811e4892",
        "outputId": "1b95134c-775a-4055-e531-4b200411285e"
      },
      "outputs": [
        {
          "output_type": "stream",
          "name": "stdout",
          "text": [
            "Hate Speech = 2242\n",
            "Free Speech = 29720\n"
          ]
        }
      ],
      "source": [
        "# Extracting the Target Attribute for Each Class and Visualize\n",
        "hate_speech = df[df['label'] == 1].shape[0]\n",
        "free_speech = df[df['label'] == 0].shape[0]\n",
        "print('Hate Speech =', hate_speech)\n",
        "print('Free Speech =', free_speech)"
      ]
    },
    {
      "cell_type": "code",
      "execution_count": 9,
      "id": "3787cdaf",
      "metadata": {
        "colab": {
          "base_uri": "https://localhost:8080/",
          "height": 303
        },
        "id": "3787cdaf",
        "outputId": "2320af89-b07e-4cc7-fa1e-66440c567cda"
      },
      "outputs": [
        {
          "output_type": "display_data",
          "data": {
            "text/plain": [
              "<Figure size 360x360 with 1 Axes>"
            ],
            "image/png": "[encoded data removed]"
          },
          "metadata": {}
        }
      ],
      "source": [
        "# Visualize the Label Class\n",
        "speech = [hate_speech, free_speech]\n",
        "label = [\"Hate Speech\", \"Free Speech\"]\n",
        "\n",
        "plt.figure(figsize=(5, 5))\n",
        "plt.pie(speech, labels = label, shadow = True, autopct = '%1.1f%%', colors=['blue', 'red'])\n",
        "plt.style.use('fivethirtyeight')\n",
        "plt.show()"
      ]
    },
    {
      "cell_type": "markdown",
      "source": [
        "Note: It is clear that our data is not balanced and this may couse a misleading in the training accuracy. "
      ],
      "metadata": {
        "id": "1KXT4v_pae4x"
      },
      "id": "1KXT4v_pae4x"
    },
    {
      "cell_type": "markdown",
      "id": "a99cf52e",
      "metadata": {
        "id": "a99cf52e"
      },
      "source": [
        "### Add features"
      ]
    },
    {
      "cell_type": "code",
      "execution_count": 10,
      "id": "5d6d0abc",
      "metadata": {
        "colab": {
          "base_uri": "https://localhost:8080/",
          "height": 206
        },
        "id": "5d6d0abc",
        "outputId": "9bb3dd98-9326-4b81-ab2b-b3ca8eb9647d"
      },
      "outputs": [
        {
          "output_type": "execute_result",
          "data": {
            "text/plain": [
              "                       count       mean        std   min        25%   50%  \\\n",
              "label                31962.0   0.070146   0.255397   0.0   0.000000   0.0   \n",
              "tweet_length         31962.0  84.739628  29.455749  11.0  63.000000  88.0   \n",
              "tweet_num_words      31962.0  13.158720   5.478150   3.0   9.000000  13.0   \n",
              "mean_word_len        31962.0   5.593463   1.945719   1.0   4.529412   5.2   \n",
              "tweet_non_stopwords  31962.0   9.121144   3.474333   0.0   7.000000   9.0   \n",
              "\n",
              "                       75%         max  \n",
              "label                  0.0    1.000000  \n",
              "tweet_length         108.0  274.000000  \n",
              "tweet_num_words       17.0   34.000000  \n",
              "mean_word_len          6.2   81.333333  \n",
              "tweet_non_stopwords   11.0   27.000000  "
            ],
            "text/html": [
              "\n",
              "  <div id=\"df-dcd870fa-44a0-405e-9d83-c037d94099fb\">\n",
              "    <div class=\"colab-df-container\">\n",
              "      <div>\n",
              "<style scoped>\n",
              "    .dataframe tbody tr th:only-of-type {\n",
              "        vertical-align: middle;\n",
              "    }\n",
              "\n",
              "    .dataframe tbody tr th {\n",
              "        vertical-align: top;\n",
              "    }\n",
              "\n",
              "    .dataframe thead th {\n",
              "        text-align: right;\n",
              "    }\n",
              "</style>\n",
              "<table border=\"1\" class=\"dataframe\">\n",
              "  <thead>\n",
              "    <tr style=\"text-align: right;\">\n",
              "      <th></th>\n",
              "      <th>count</th>\n",
              "      <th>mean</th>\n",
              "      <th>std</th>\n",
              "      <th>min</th>\n",
              "      <th>25%</th>\n",
              "      <th>50%</th>\n",
              "      <th>75%</th>\n",
              "      <th>max</th>\n",
              "    </tr>\n",
              "  </thead>\n",
              "  <tbody>\n",
              "    <tr>\n",
              "      <th>label</th>\n",
              "      <td>31962.0</td>\n",
              "      <td>0.070146</td>\n",
              "      <td>0.255397</td>\n",
              "      <td>0.0</td>\n",
              "      <td>0.000000</td>\n",
              "      <td>0.0</td>\n",
              "      <td>0.0</td>\n",
              "      <td>1.000000</td>\n",
              "    </tr>\n",
              "    <tr>\n",
              "      <th>tweet_length</th>\n",
              "      <td>31962.0</td>\n",
              "      <td>84.739628</td>\n",
              "      <td>29.455749</td>\n",
              "      <td>11.0</td>\n",
              "      <td>63.000000</td>\n",
              "      <td>88.0</td>\n",
              "      <td>108.0</td>\n",
              "      <td>274.000000</td>\n",
              "    </tr>\n",
              "    <tr>\n",
              "      <th>tweet_num_words</th>\n",
              "      <td>31962.0</td>\n",
              "      <td>13.158720</td>\n",
              "      <td>5.478150</td>\n",
              "      <td>3.0</td>\n",
              "      <td>9.000000</td>\n",
              "      <td>13.0</td>\n",
              "      <td>17.0</td>\n",
              "      <td>34.000000</td>\n",
              "    </tr>\n",
              "    <tr>\n",
              "      <th>mean_word_len</th>\n",
              "      <td>31962.0</td>\n",
              "      <td>5.593463</td>\n",
              "      <td>1.945719</td>\n",
              "      <td>1.0</td>\n",
              "      <td>4.529412</td>\n",
              "      <td>5.2</td>\n",
              "      <td>6.2</td>\n",
              "      <td>81.333333</td>\n",
              "    </tr>\n",
              "    <tr>\n",
              "      <th>tweet_non_stopwords</th>\n",
              "      <td>31962.0</td>\n",
              "      <td>9.121144</td>\n",
              "      <td>3.474333</td>\n",
              "      <td>0.0</td>\n",
              "      <td>7.000000</td>\n",
              "      <td>9.0</td>\n",
              "      <td>11.0</td>\n",
              "      <td>27.000000</td>\n",
              "    </tr>\n",
              "  </tbody>\n",
              "</table>\n",
              "</div>\n",
              "      <button class=\"colab-df-convert\" onclick=\"convertToInteractive('df-dcd870fa-44a0-405e-9d83-c037d94099fb')\"\n",
              "              title=\"Convert this dataframe to an interactive table.\"\n",
              "              style=\"display:none;\">\n",
              "        \n",
              "  <svg xmlns=\"http://www.w3.org/2000/svg\" height=\"24px\"viewBox=\"0 0 24 24\"\n",
              "       width=\"24px\">\n",
              "    <path d=\"M0 0h24v24H0V0z\" fill=\"none\"/>\n",
              "    <path d=\"M18.56 5.44l.94 2.06.94-2.06 2.06-.94-2.06-.94-.94-2.06-.94 2.06-2.06.94zm-11 1L8.5 8.5l.94-2.06 2.06-.94-2.06-.94L8.5 2.5l-.94 2.06-2.06.94zm10 10l.94 2.06.94-2.06 2.06-.94-2.06-.94-.94-2.06-.94 2.06-2.06.94z\"/><path d=\"M17.41 7.96l-1.37-1.37c-.4-.4-.92-.59-1.43-.59-.52 0-1.04.2-1.43.59L10.3 9.45l-7.72 7.72c-.78.78-.78 2.05 0 2.83L4 21.41c.39.39.9.59 1.41.59.51 0 1.02-.2 1.41-.59l7.78-7.78 2.81-2.81c.8-.78.8-2.07 0-2.86zM5.41 20L4 18.59l7.72-7.72 1.47 1.35L5.41 20z\"/>\n",
              "  </svg>\n",
              "      </button>\n",
              "      \n",
              "  <style>\n",
              "    .colab-df-container {\n",
              "      display:flex;\n",
              "      flex-wrap:wrap;\n",
              "      gap: 12px;\n",
              "    }\n",
              "\n",
              "    .colab-df-convert {\n",
              "      background-color: #E8F0FE;\n",
              "      border: none;\n",
              "      border-radius: 50%;\n",
              "      cursor: pointer;\n",
              "      display: none;\n",
              "      fill: #1967D2;\n",
              "      height: 32px;\n",
              "      padding: 0 0 0 0;\n",
              "      width: 32px;\n",
              "    }\n",
              "\n",
              "    .colab-df-convert:hover {\n",
              "      background-color: #E2EBFA;\n",
              "      box-shadow: 0px 1px 2px rgba(60, 64, 67, 0.3), 0px 1px 3px 1px rgba(60, 64, 67, 0.15);\n",
              "      fill: #174EA6;\n",
              "    }\n",
              "\n",
              "    [theme=dark] .colab-df-convert {\n",
              "      background-color: #3B4455;\n",
              "      fill: #D2E3FC;\n",
              "    }\n",
              "\n",
              "    [theme=dark] .colab-df-convert:hover {\n",
              "      background-color: #434B5C;\n",
              "      box-shadow: 0px 1px 3px 1px rgba(0, 0, 0, 0.15);\n",
              "      filter: drop-shadow(0px 1px 2px rgba(0, 0, 0, 0.3));\n",
              "      fill: #FFFFFF;\n",
              "    }\n",
              "  </style>\n",
              "\n",
              "      <script>\n",
              "        const buttonEl =\n",
              "          document.querySelector('#df-dcd870fa-44a0-405e-9d83-c037d94099fb button.colab-df-convert');\n",
              "        buttonEl.style.display =\n",
              "          google.colab.kernel.accessAllowed ? 'block' : 'none';\n",
              "\n",
              "        async function convertToInteractive(key) {\n",
              "          const element = document.querySelector('#df-dcd870fa-44a0-405e-9d83-c037d94099fb');\n",
              "          const dataTable =\n",
              "            await google.colab.kernel.invokeFunction('convertToInteractive',\n",
              "                                                     [key], {});\n",
              "          if (!dataTable) return;\n",
              "\n",
              "          const docLinkHtml = 'Like what you see? Visit the ' +\n",
              "            '<a target=\"_blank\" href=https://colab.research.google.com/notebooks/data_table.ipynb>data table notebook</a>'\n",
              "            + ' to learn more about interactive tables.';\n",
              "          element.innerHTML = '';\n",
              "          dataTable['output_type'] = 'display_data';\n",
              "          await google.colab.output.renderOutput(dataTable, element);\n",
              "          const docLink = document.createElement('div');\n",
              "          docLink.innerHTML = docLinkHtml;\n",
              "          element.appendChild(docLink);\n",
              "        }\n",
              "      </script>\n",
              "    </div>\n",
              "  </div>\n",
              "  "
            ]
          },
          "metadata": {},
          "execution_count": 10
        }
      ],
      "source": [
        "# Number of characters in the text\n",
        "df['tweet_length'] = df['tweet'].apply(len)\n",
        "\n",
        "# Number of words in the text\n",
        "df['tweet_num_words'] = df['tweet'].apply(lambda x: len(x.split()))\n",
        "\n",
        "# Average length of the words in the text\n",
        "df[\"mean_word_len\"] = df[\"tweet\"].apply(lambda x: np.mean([len(w) for w in str(x).split()]))\n",
        "\n",
        "# Number of non-stopwords in the text: first we will extend the stopwords to include other words used in twitter\n",
        "# such as retweet(rt) etc.\n",
        "\n",
        "# nltk.download('stopwords')\n",
        "stopwords = nltk.corpus.stopwords.words(\"english\")\n",
        "other_exclusions = [\"#ff\", \"ff\", \"rt\"]\n",
        "stopwords.extend(other_exclusions)\n",
        "df['tweet_non_stopwords'] = df['tweet'].apply(lambda x: len([t for t in x.split() if t not in stopwords]))\n",
        "df.describe().T"
      ]
    },
    {
      "cell_type": "code",
      "execution_count": 11,
      "id": "37e25237",
      "metadata": {
        "colab": {
          "base_uri": "https://localhost:8080/",
          "height": 238
        },
        "id": "37e25237",
        "outputId": "fda5a0bc-e77c-44bf-f24d-7ed3882ea361"
      },
      "outputs": [
        {
          "output_type": "execute_result",
          "data": {
            "text/plain": [
              "    label  \\\n",
              "id          \n",
              "1       0   \n",
              "2       0   \n",
              "3       0   \n",
              "4       0   \n",
              "5       0   \n",
              "\n",
              "                                                                                                                         tweet  \\\n",
              "id                                                                                                                               \n",
              "1                        @user when a father is dysfunctional and is so selfish he drags his kids into his dysfunction.   #run   \n",
              "2   @user @user thanks for #lyft credit i can't use cause they don't offer wheelchair vans in pdx.    #disapointed #getthanked   \n",
              "3                                                                                                          bihday your majesty   \n",
              "4                                       #model   i love u take with u all the time in urð±!!! ðððð\n",
              "ð¦ð¦ð¦     \n",
              "5                                                                                       factsguide: society now    #motivation   \n",
              "\n",
              "    tweet_length  tweet_num_words  mean_word_len  tweet_non_stopwords  \n",
              "id                                                                     \n",
              "1            102               18       4.555556                    8  \n",
              "2            122               19       5.315789                   14  \n",
              "3             21                3       5.666667                    2  \n",
              "4             86               14       4.928571                    9  \n",
              "5             39                4       8.000000                    3  "
            ],
            "text/html": [
              "\n",
              "  <div id=\"df-0b0ba451-8414-42e4-b298-34458f612fc7\">\n",
              "    <div class=\"colab-df-container\">\n",
              "      <div>\n",
              "<style scoped>\n",
              "    .dataframe tbody tr th:only-of-type {\n",
              "        vertical-align: middle;\n",
              "    }\n",
              "\n",
              "    .dataframe tbody tr th {\n",
              "        vertical-align: top;\n",
              "    }\n",
              "\n",
              "    .dataframe thead th {\n",
              "        text-align: right;\n",
              "    }\n",
              "</style>\n",
              "<table border=\"1\" class=\"dataframe\">\n",
              "  <thead>\n",
              "    <tr style=\"text-align: right;\">\n",
              "      <th></th>\n",
              "      <th>label</th>\n",
              "      <th>tweet</th>\n",
              "      <th>tweet_length</th>\n",
              "      <th>tweet_num_words</th>\n",
              "      <th>mean_word_len</th>\n",
              "      <th>tweet_non_stopwords</th>\n",
              "    </tr>\n",
              "    <tr>\n",
              "      <th>id</th>\n",
              "      <th></th>\n",
              "      <th></th>\n",
              "      <th></th>\n",
              "      <th></th>\n",
              "      <th></th>\n",
              "      <th></th>\n",
              "    </tr>\n",
              "  </thead>\n",
              "  <tbody>\n",
              "    <tr>\n",
              "      <th>1</th>\n",
              "      <td>0</td>\n",
              "      <td>@user when a father is dysfunctional and is so selfish he drags his kids into his dysfunction.   #run</td>\n",
              "      <td>102</td>\n",
              "      <td>18</td>\n",
              "      <td>4.555556</td>\n",
              "      <td>8</td>\n",
              "    </tr>\n",
              "    <tr>\n",
              "      <th>2</th>\n",
              "      <td>0</td>\n",
              "      <td>@user @user thanks for #lyft credit i can't use cause they don't offer wheelchair vans in pdx.    #disapointed #getthanked</td>\n",
              "      <td>122</td>\n",
              "      <td>19</td>\n",
              "      <td>5.315789</td>\n",
              "      <td>14</td>\n",
              "    </tr>\n",
              "    <tr>\n",
              "      <th>3</th>\n",
              "      <td>0</td>\n",
              "      <td>bihday your majesty</td>\n",
              "      <td>21</td>\n",
              "      <td>3</td>\n",
              "      <td>5.666667</td>\n",
              "      <td>2</td>\n",
              "    </tr>\n",
              "    <tr>\n",
              "      <th>4</th>\n",
              "      <td>0</td>\n",
              "      <td>#model   i love u take with u all the time in urð±!!! ððððð¦ð¦ð¦</td>\n",
              "      <td>86</td>\n",
              "      <td>14</td>\n",
              "      <td>4.928571</td>\n",
              "      <td>9</td>\n",
              "    </tr>\n",
              "    <tr>\n",
              "      <th>5</th>\n",
              "      <td>0</td>\n",
              "      <td>factsguide: society now    #motivation</td>\n",
              "      <td>39</td>\n",
              "      <td>4</td>\n",
              "      <td>8.000000</td>\n",
              "      <td>3</td>\n",
              "    </tr>\n",
              "  </tbody>\n",
              "</table>\n",
              "</div>\n",
              "      <button class=\"colab-df-convert\" onclick=\"convertToInteractive('df-0b0ba451-8414-42e4-b298-34458f612fc7')\"\n",
              "              title=\"Convert this dataframe to an interactive table.\"\n",
              "              style=\"display:none;\">\n",
              "        \n",
              "  <svg xmlns=\"http://www.w3.org/2000/svg\" height=\"24px\"viewBox=\"0 0 24 24\"\n",
              "       width=\"24px\">\n",
              "    <path d=\"M0 0h24v24H0V0z\" fill=\"none\"/>\n",
              "    <path d=\"M18.56 5.44l.94 2.06.94-2.06 2.06-.94-2.06-.94-.94-2.06-.94 2.06-2.06.94zm-11 1L8.5 8.5l.94-2.06 2.06-.94-2.06-.94L8.5 2.5l-.94 2.06-2.06.94zm10 10l.94 2.06.94-2.06 2.06-.94-2.06-.94-.94-2.06-.94 2.06-2.06.94z\"/><path d=\"M17.41 7.96l-1.37-1.37c-.4-.4-.92-.59-1.43-.59-.52 0-1.04.2-1.43.59L10.3 9.45l-7.72 7.72c-.78.78-.78 2.05 0 2.83L4 21.41c.39.39.9.59 1.41.59.51 0 1.02-.2 1.41-.59l7.78-7.78 2.81-2.81c.8-.78.8-2.07 0-2.86zM5.41 20L4 18.59l7.72-7.72 1.47 1.35L5.41 20z\"/>\n",
              "  </svg>\n",
              "      </button>\n",
              "      \n",
              "  <style>\n",
              "    .colab-df-container {\n",
              "      display:flex;\n",
              "      flex-wrap:wrap;\n",
              "      gap: 12px;\n",
              "    }\n",
              "\n",
              "    .colab-df-convert {\n",
              "      background-color: #E8F0FE;\n",
              "      border: none;\n",
              "      border-radius: 50%;\n",
              "      cursor: pointer;\n",
              "      display: none;\n",
              "      fill: #1967D2;\n",
              "      height: 32px;\n",
              "      padding: 0 0 0 0;\n",
              "      width: 32px;\n",
              "    }\n",
              "\n",
              "    .colab-df-convert:hover {\n",
              "      background-color: #E2EBFA;\n",
              "      box-shadow: 0px 1px 2px rgba(60, 64, 67, 0.3), 0px 1px 3px 1px rgba(60, 64, 67, 0.15);\n",
              "      fill: #174EA6;\n",
              "    }\n",
              "\n",
              "    [theme=dark] .colab-df-convert {\n",
              "      background-color: #3B4455;\n",
              "      fill: #D2E3FC;\n",
              "    }\n",
              "\n",
              "    [theme=dark] .colab-df-convert:hover {\n",
              "      background-color: #434B5C;\n",
              "      box-shadow: 0px 1px 3px 1px rgba(0, 0, 0, 0.15);\n",
              "      filter: drop-shadow(0px 1px 2px rgba(0, 0, 0, 0.3));\n",
              "      fill: #FFFFFF;\n",
              "    }\n",
              "  </style>\n",
              "\n",
              "      <script>\n",
              "        const buttonEl =\n",
              "          document.querySelector('#df-0b0ba451-8414-42e4-b298-34458f612fc7 button.colab-df-convert');\n",
              "        buttonEl.style.display =\n",
              "          google.colab.kernel.accessAllowed ? 'block' : 'none';\n",
              "\n",
              "        async function convertToInteractive(key) {\n",
              "          const element = document.querySelector('#df-0b0ba451-8414-42e4-b298-34458f612fc7');\n",
              "          const dataTable =\n",
              "            await google.colab.kernel.invokeFunction('convertToInteractive',\n",
              "                                                     [key], {});\n",
              "          if (!dataTable) return;\n",
              "\n",
              "          const docLinkHtml = 'Like what you see? Visit the ' +\n",
              "            '<a target=\"_blank\" href=https://colab.research.google.com/notebooks/data_table.ipynb>data table notebook</a>'\n",
              "            + ' to learn more about interactive tables.';\n",
              "          element.innerHTML = '';\n",
              "          dataTable['output_type'] = 'display_data';\n",
              "          await google.colab.output.renderOutput(dataTable, element);\n",
              "          const docLink = document.createElement('div');\n",
              "          docLink.innerHTML = docLinkHtml;\n",
              "          element.appendChild(docLink);\n",
              "        }\n",
              "      </script>\n",
              "    </div>\n",
              "  </div>\n",
              "  "
            ]
          },
          "metadata": {},
          "execution_count": 11
        }
      ],
      "source": [
        "df.head()"
      ]
    },
    {
      "cell_type": "code",
      "execution_count": 12,
      "id": "ee33f190",
      "metadata": {
        "colab": {
          "base_uri": "https://localhost:8080/",
          "height": 303
        },
        "id": "ee33f190",
        "outputId": "3edc8430-8e3c-4d01-fbeb-26ad4bb3c57e"
      },
      "outputs": [
        {
          "output_type": "display_data",
          "data": {
            "text/plain": [
              "<Figure size 432x288 with 1 Axes>"
            ],
            "image/png": "[encoded data removed]"
          },
          "metadata": {}
        }
      ],
      "source": [
        "df[\"tweet_length\"].plot(kind='hist', title='Text Length Distribution', xlim=[0, 170], bins = 100, figsize=(6,4),color='m')\n",
        "plt.show()"
      ]
    },
    {
      "cell_type": "markdown",
      "id": "93431a68",
      "metadata": {
        "id": "93431a68"
      },
      "source": [
        "**Note** : Distribution of text-length is between 5 and 150 where the most tweets-length are around 90 characters. It is also noticable that the number of tweets seem to be skewed."
      ]
    },
    {
      "cell_type": "code",
      "execution_count": 13,
      "id": "85b8d33e",
      "metadata": {
        "colab": {
          "base_uri": "https://localhost:8080/",
          "height": 303
        },
        "id": "85b8d33e",
        "outputId": "e2a9a9aa-b0ef-4651-99ef-afc3118740f8"
      },
      "outputs": [
        {
          "output_type": "display_data",
          "data": {
            "text/plain": [
              "<Figure size 432x288 with 1 Axes>"
            ],
            "image/png": "[encoded data removed]"
          },
          "metadata": {}
        }
      ],
      "source": [
        "df[\"tweet_length\"].plot(kind='box', title='Tweet Length Distribution', figsize=(6,4))\n",
        "plt.show()"
      ]
    },
    {
      "cell_type": "markdown",
      "id": "57d31ad3",
      "metadata": {
        "id": "57d31ad3"
      },
      "source": [
        "## Data Preprocessing\n",
        "\n",
        "#### 1. Text Cleaning\n",
        "- Lowercase\n",
        "- Remove Punctuation\n",
        "- Remove Urls\n",
        "- Removing @tags\n",
        "- Remove Special Characters\n",
        "\n",
        "#### 2. Preprocessing Operations\n",
        "- Tokenizing\n",
        "- Removing Stop Words\n",
        "- Lemmatization\n",
        "- WordCloud"
      ]
    },
    {
      "cell_type": "code",
      "execution_count": 14,
      "id": "bb4986d5",
      "metadata": {
        "colab": {
          "base_uri": "https://localhost:8080/",
          "height": 560
        },
        "id": "bb4986d5",
        "outputId": "45cfbe66-6b0e-4142-8aa1-eb85218a1c85"
      },
      "outputs": [
        {
          "output_type": "execute_result",
          "data": {
            "text/plain": [
              "       label  \\\n",
              "id             \n",
              "31946      0   \n",
              "17610      0   \n",
              "13353      0   \n",
              "24344      0   \n",
              "16240      0   \n",
              "6221       0   \n",
              "2870       0   \n",
              "29927      0   \n",
              "6238       0   \n",
              "27334      1   \n",
              "\n",
              "                                                                                                                tweet  \\\n",
              "id                                                                                                                      \n",
              "31946                                            feel like... ðð¶ð #dog #summer #hot #help #sun #day   #more    \n",
              "17610  just finished this book and thinking how we can't forget the past.  so hard to think about wwii and germany      \n",
              "13353                                                                   i am clean. #i_am #positive #affirmation        \n",
              "24344                         with bffs... #coffee #talk   #cake #yum #quality #time #sweet #gossip #smile #laughâ¦    \n",
              "16240    morning! hope everyone has a wonderful, fun-filled day #health #wealth #fitness #fitcoachclaire #nutrition     \n",
              "6221                                                                                 a   #drawing i made a while ago    \n",
              "2870                           officially launching our new shop in the @user this afternoon with the lovely @user      \n",
              "29927                                     cavs win this season in nba    #nbafinals  #game7  #lebronjames  #champions   \n",
              "6238           depressed blvck princ3 âï¸ðâ¹ï¸ð #clubkid #dpressed #blvck #prince  ness #hate #tired  â¦    \n",
              "27334                               damning video: racist hillary says ' i will only talk to white people'  #hillary    \n",
              "\n",
              "       tweet_length  tweet_num_words  mean_word_len  tweet_non_stopwords  \\\n",
              "id                                                                         \n",
              "31946            68               10       5.600000                   10   \n",
              "17610           110               20       4.350000                   10   \n",
              "13353            45                6       5.833333                    4   \n",
              "24344            87               12       6.083333                   11   \n",
              "16240           108               13       7.230769                   11   \n",
              "6221             32                7       3.285714                    3   \n",
              "2870             86               14       5.000000                    8   \n",
              "29927            75               10       6.000000                    8   \n",
              "6238            102               12       7.333333                   12   \n",
              "27334            81               14       4.714286                   10   \n",
              "\n",
              "                                                                                     cleaned_phrase  \n",
              "id                                                                                                   \n",
              "31946                                                         feel like dog summer hot help sun day  \n",
              "17610                                    finished book thinking forget past hard think wwii germany  \n",
              "13353                                                                clean iam positive affirmation  \n",
              "24344                                     bffs coffee talk cake yum quality time sweet gossip smile  \n",
              "16240  morning hope everyone wonderful funfilled day health wealth fitness fitcoachclaire nutrition  \n",
              "6221                                                                               drawing made ago  \n",
              "2870                                                 officially launching new shop afternoon lovely  \n",
              "29927                                            cavs win season nba nbafinals lebronjames champion  \n",
              "6238                                  depressed blvck clubkid dpressed blvck prince ness hate tired  \n",
              "27334                                    damning video racist hillary say talk white people hillary  "
            ],
            "text/html": [
              "\n",
              "  <div id=\"df-5fb369ff-d78b-4d5c-af7c-59042fb660b6\">\n",
              "    <div class=\"colab-df-container\">\n",
              "      <div>\n",
              "<style scoped>\n",
              "    .dataframe tbody tr th:only-of-type {\n",
              "        vertical-align: middle;\n",
              "    }\n",
              "\n",
              "    .dataframe tbody tr th {\n",
              "        vertical-align: top;\n",
              "    }\n",
              "\n",
              "    .dataframe thead th {\n",
              "        text-align: right;\n",
              "    }\n",
              "</style>\n",
              "<table border=\"1\" class=\"dataframe\">\n",
              "  <thead>\n",
              "    <tr style=\"text-align: right;\">\n",
              "      <th></th>\n",
              "      <th>label</th>\n",
              "      <th>tweet</th>\n",
              "      <th>tweet_length</th>\n",
              "      <th>tweet_num_words</th>\n",
              "      <th>mean_word_len</th>\n",
              "      <th>tweet_non_stopwords</th>\n",
              "      <th>cleaned_phrase</th>\n",
              "    </tr>\n",
              "    <tr>\n",
              "      <th>id</th>\n",
              "      <th></th>\n",
              "      <th></th>\n",
              "      <th></th>\n",
              "      <th></th>\n",
              "      <th></th>\n",
              "      <th></th>\n",
              "      <th></th>\n",
              "    </tr>\n",
              "  </thead>\n",
              "  <tbody>\n",
              "    <tr>\n",
              "      <th>31946</th>\n",
              "      <td>0</td>\n",
              "      <td>feel like... ðð¶ð #dog #summer #hot #help #sun #day   #more</td>\n",
              "      <td>68</td>\n",
              "      <td>10</td>\n",
              "      <td>5.600000</td>\n",
              "      <td>10</td>\n",
              "      <td>feel like dog summer hot help sun day</td>\n",
              "    </tr>\n",
              "    <tr>\n",
              "      <th>17610</th>\n",
              "      <td>0</td>\n",
              "      <td>just finished this book and thinking how we can't forget the past.  so hard to think about wwii and germany</td>\n",
              "      <td>110</td>\n",
              "      <td>20</td>\n",
              "      <td>4.350000</td>\n",
              "      <td>10</td>\n",
              "      <td>finished book thinking forget past hard think wwii germany</td>\n",
              "    </tr>\n",
              "    <tr>\n",
              "      <th>13353</th>\n",
              "      <td>0</td>\n",
              "      <td>i am clean. #i_am #positive #affirmation</td>\n",
              "      <td>45</td>\n",
              "      <td>6</td>\n",
              "      <td>5.833333</td>\n",
              "      <td>4</td>\n",
              "      <td>clean iam positive affirmation</td>\n",
              "    </tr>\n",
              "    <tr>\n",
              "      <th>24344</th>\n",
              "      <td>0</td>\n",
              "      <td>with bffs... #coffee #talk   #cake #yum #quality #time #sweet #gossip #smile #laughâ¦</td>\n",
              "      <td>87</td>\n",
              "      <td>12</td>\n",
              "      <td>6.083333</td>\n",
              "      <td>11</td>\n",
              "      <td>bffs coffee talk cake yum quality time sweet gossip smile</td>\n",
              "    </tr>\n",
              "    <tr>\n",
              "      <th>16240</th>\n",
              "      <td>0</td>\n",
              "      <td>morning! hope everyone has a wonderful, fun-filled day #health #wealth #fitness #fitcoachclaire #nutrition</td>\n",
              "      <td>108</td>\n",
              "      <td>13</td>\n",
              "      <td>7.230769</td>\n",
              "      <td>11</td>\n",
              "      <td>morning hope everyone wonderful funfilled day health wealth fitness fitcoachclaire nutrition</td>\n",
              "    </tr>\n",
              "    <tr>\n",
              "      <th>6221</th>\n",
              "      <td>0</td>\n",
              "      <td>a   #drawing i made a while ago</td>\n",
              "      <td>32</td>\n",
              "      <td>7</td>\n",
              "      <td>3.285714</td>\n",
              "      <td>3</td>\n",
              "      <td>drawing made ago</td>\n",
              "    </tr>\n",
              "    <tr>\n",
              "      <th>2870</th>\n",
              "      <td>0</td>\n",
              "      <td>officially launching our new shop in the @user this afternoon with the lovely @user</td>\n",
              "      <td>86</td>\n",
              "      <td>14</td>\n",
              "      <td>5.000000</td>\n",
              "      <td>8</td>\n",
              "      <td>officially launching new shop afternoon lovely</td>\n",
              "    </tr>\n",
              "    <tr>\n",
              "      <th>29927</th>\n",
              "      <td>0</td>\n",
              "      <td>cavs win this season in nba    #nbafinals  #game7  #lebronjames  #champions</td>\n",
              "      <td>75</td>\n",
              "      <td>10</td>\n",
              "      <td>6.000000</td>\n",
              "      <td>8</td>\n",
              "      <td>cavs win season nba nbafinals lebronjames champion</td>\n",
              "    </tr>\n",
              "    <tr>\n",
              "      <th>6238</th>\n",
              "      <td>0</td>\n",
              "      <td>depressed blvck princ3 âï¸ðâ¹ï¸ð #clubkid #dpressed #blvck #prince  ness #hate #tired  â¦</td>\n",
              "      <td>102</td>\n",
              "      <td>12</td>\n",
              "      <td>7.333333</td>\n",
              "      <td>12</td>\n",
              "      <td>depressed blvck clubkid dpressed blvck prince ness hate tired</td>\n",
              "    </tr>\n",
              "    <tr>\n",
              "      <th>27334</th>\n",
              "      <td>1</td>\n",
              "      <td>damning video: racist hillary says ' i will only talk to white people'  #hillary</td>\n",
              "      <td>81</td>\n",
              "      <td>14</td>\n",
              "      <td>4.714286</td>\n",
              "      <td>10</td>\n",
              "      <td>damning video racist hillary say talk white people hillary</td>\n",
              "    </tr>\n",
              "  </tbody>\n",
              "</table>\n",
              "</div>\n",
              "      <button class=\"colab-df-convert\" onclick=\"convertToInteractive('df-5fb369ff-d78b-4d5c-af7c-59042fb660b6')\"\n",
              "              title=\"Convert this dataframe to an interactive table.\"\n",
              "              style=\"display:none;\">\n",
              "        \n",
              "  <svg xmlns=\"http://www.w3.org/2000/svg\" height=\"24px\"viewBox=\"0 0 24 24\"\n",
              "       width=\"24px\">\n",
              "    <path d=\"M0 0h24v24H0V0z\" fill=\"none\"/>\n",
              "    <path d=\"M18.56 5.44l.94 2.06.94-2.06 2.06-.94-2.06-.94-.94-2.06-.94 2.06-2.06.94zm-11 1L8.5 8.5l.94-2.06 2.06-.94-2.06-.94L8.5 2.5l-.94 2.06-2.06.94zm10 10l.94 2.06.94-2.06 2.06-.94-2.06-.94-.94-2.06-.94 2.06-2.06.94z\"/><path d=\"M17.41 7.96l-1.37-1.37c-.4-.4-.92-.59-1.43-.59-.52 0-1.04.2-1.43.59L10.3 9.45l-7.72 7.72c-.78.78-.78 2.05 0 2.83L4 21.41c.39.39.9.59 1.41.59.51 0 1.02-.2 1.41-.59l7.78-7.78 2.81-2.81c.8-.78.8-2.07 0-2.86zM5.41 20L4 18.59l7.72-7.72 1.47 1.35L5.41 20z\"/>\n",
              "  </svg>\n",
              "      </button>\n",
              "      \n",
              "  <style>\n",
              "    .colab-df-container {\n",
              "      display:flex;\n",
              "      flex-wrap:wrap;\n",
              "      gap: 12px;\n",
              "    }\n",
              "\n",
              "    .colab-df-convert {\n",
              "      background-color: #E8F0FE;\n",
              "      border: none;\n",
              "      border-radius: 50%;\n",
              "      cursor: pointer;\n",
              "      display: none;\n",
              "      fill: #1967D2;\n",
              "      height: 32px;\n",
              "      padding: 0 0 0 0;\n",
              "      width: 32px;\n",
              "    }\n",
              "\n",
              "    .colab-df-convert:hover {\n",
              "      background-color: #E2EBFA;\n",
              "      box-shadow: 0px 1px 2px rgba(60, 64, 67, 0.3), 0px 1px 3px 1px rgba(60, 64, 67, 0.15);\n",
              "      fill: #174EA6;\n",
              "    }\n",
              "\n",
              "    [theme=dark] .colab-df-convert {\n",
              "      background-color: #3B4455;\n",
              "      fill: #D2E3FC;\n",
              "    }\n",
              "\n",
              "    [theme=dark] .colab-df-convert:hover {\n",
              "      background-color: #434B5C;\n",
              "      box-shadow: 0px 1px 3px 1px rgba(0, 0, 0, 0.15);\n",
              "      filter: drop-shadow(0px 1px 2px rgba(0, 0, 0, 0.3));\n",
              "      fill: #FFFFFF;\n",
              "    }\n",
              "  </style>\n",
              "\n",
              "      <script>\n",
              "        const buttonEl =\n",
              "          document.querySelector('#df-5fb369ff-d78b-4d5c-af7c-59042fb660b6 button.colab-df-convert');\n",
              "        buttonEl.style.display =\n",
              "          google.colab.kernel.accessAllowed ? 'block' : 'none';\n",
              "\n",
              "        async function convertToInteractive(key) {\n",
              "          const element = document.querySelector('#df-5fb369ff-d78b-4d5c-af7c-59042fb660b6');\n",
              "          const dataTable =\n",
              "            await google.colab.kernel.invokeFunction('convertToInteractive',\n",
              "                                                     [key], {});\n",
              "          if (!dataTable) return;\n",
              "\n",
              "          const docLinkHtml = 'Like what you see? Visit the ' +\n",
              "            '<a target=\"_blank\" href=https://colab.research.google.com/notebooks/data_table.ipynb>data table notebook</a>'\n",
              "            + ' to learn more about interactive tables.';\n",
              "          element.innerHTML = '';\n",
              "          dataTable['output_type'] = 'display_data';\n",
              "          await google.colab.output.renderOutput(dataTable, element);\n",
              "          const docLink = document.createElement('div');\n",
              "          docLink.innerHTML = docLinkHtml;\n",
              "          element.appendChild(docLink);\n",
              "        }\n",
              "      </script>\n",
              "    </div>\n",
              "  </div>\n",
              "  "
            ]
          },
          "metadata": {},
          "execution_count": 14
        }
      ],
      "source": [
        "def clean_txt(tweet):\n",
        "    \n",
        "    # removal of extra spaces\n",
        "    regex_pat = re.compile(r'\\s+')\n",
        "    Tweet = re.sub(regex_pat,\" \",tweet)\n",
        "    \n",
        "    #Remove @tags\n",
        "    Tweet= re.sub(r'@[\\w\\-]+',\"\",Tweet)\n",
        "    \n",
        "    # removal of links[https://abc.com]\n",
        "    url_regex =  re.compile('http[s]?://(?:[a-zA-Z]|[0-9]|[$-_@.&+]|'\n",
        "            '[!*\\(\\),]|(?:%[0-9a-fA-F][0-9a-fA-F]))+')\n",
        "    Tweet = re.sub(url_regex,\"\",Tweet)\n",
        "    \n",
        "    # split into words (tokenizing)\n",
        "    Tweet = nltk.word_tokenize(Tweet)\n",
        "    \n",
        "    # convert to lower case\n",
        "    Tweet = [w.lower() for w in Tweet]    \n",
        "    \n",
        "    # remove punctuation from each word\n",
        "    re_punc = re.compile('[%s]' % re.escape(string.punctuation))\n",
        "    Tweet = [re_punc.sub('', w) for w in Tweet]\n",
        "\n",
        "    # remove remaining tokens that are not alphabetic\n",
        "    Tweet = [word for word in Tweet if word.isalpha()]\n",
        "\n",
        "    # filter out stop words\n",
        "    Tweet = [w for w in Tweet if w not in  stopwords] \n",
        "    \n",
        "    # filter out short tokens\n",
        "    Tweet = [word for word in Tweet if len(word) > 2]\n",
        "\n",
        "    #Stemm all the words in the sentence\n",
        "    lemmatizer = WordNetLemmatizer() \n",
        "    lem_words = [lemmatizer.lemmatize(word) for word in Tweet]\n",
        "    combined_text = ' '.join(lem_words)\n",
        "    return combined_text\n",
        "\n",
        "# Cleaning the text data\n",
        "df['cleaned_phrase'] = df['tweet'].apply(clean_txt)\n",
        "df.sample(10)"
      ]
    },
    {
      "cell_type": "code",
      "execution_count": 15,
      "id": "a5cd1a07",
      "metadata": {
        "id": "a5cd1a07"
      },
      "outputs": [],
      "source": [
        "# label_list = df.label.values.tolist()\n",
        "cleaned_phrase_list = df.cleaned_phrase.values.tolist()\n",
        "# print(cleaned_phrase_list)\n",
        "# print(label_list)"
      ]
    },
    {
      "cell_type": "code",
      "execution_count": 16,
      "id": "6dfd6549",
      "metadata": {
        "colab": {
          "base_uri": "https://localhost:8080/"
        },
        "id": "6dfd6549",
        "outputId": "cbbd43db-31d7-4c83-8733-a34eda6476e6"
      },
      "outputs": [
        {
          "output_type": "execute_result",
          "data": {
            "text/plain": [
              "array([0, 0, 0, ..., 0, 1, 0])"
            ]
          },
          "metadata": {},
          "execution_count": 16
        }
      ],
      "source": [
        "# def to_array(text):\n",
        "#     array = np.array(text)\n",
        "#     return array\n",
        "\n",
        "Y = df.label.to_numpy()\n",
        "Y"
      ]
    },
    {
      "cell_type": "code",
      "execution_count": 17,
      "id": "7cdee226",
      "metadata": {
        "colab": {
          "base_uri": "https://localhost:8080/"
        },
        "id": "7cdee226",
        "outputId": "34c9d2d8-fdbc-4629-a02b-83afd86da7b7"
      },
      "outputs": [
        {
          "output_type": "execute_result",
          "data": {
            "text/plain": [
              "array([[   0,    0,    0, ...,  116, 6570,  306],\n",
              "       [   0,    0,    0, ..., 3630, 6572, 8402],\n",
              "       [   0,    0,    0, ...,    0,   17, 2812],\n",
              "       ...,\n",
              "       [   0,    0,    0, ..., 6355,   24,   59],\n",
              "       [   0,    0,    0, ..., 1330, 1331,  421],\n",
              "       [   0,    0,    0, ...,    0,   90,   99]], dtype=int32)"
            ]
          },
          "metadata": {},
          "execution_count": 17
        }
      ],
      "source": [
        "#tokenization\n",
        "max_words = 10000\n",
        "max_len = 150\n",
        "tok = Tokenizer(num_words=max_words)\n",
        "tok.fit_on_texts(cleaned_phrase_list)\n",
        "sequences = tok.texts_to_sequences(cleaned_phrase_list)\n",
        "sequences_matrix = pad_sequences(sequences,maxlen=max_len)\n",
        "sequences_matrix"
      ]
    },
    {
      "cell_type": "markdown",
      "source": [
        "# LSTM"
      ],
      "metadata": {
        "id": "tgjgiYWVtA2-"
      },
      "id": "tgjgiYWVtA2-"
    },
    {
      "cell_type": "code",
      "execution_count": 18,
      "id": "28df9b48",
      "metadata": {
        "colab": {
          "base_uri": "https://localhost:8080/"
        },
        "id": "28df9b48",
        "outputId": "d84d9fa2-8be6-4387-8780-28f0ea0a5858"
      },
      "outputs": [
        {
          "output_type": "stream",
          "name": "stdout",
          "text": [
            "Model: \"sequential\"\n",
            "_________________________________________________________________\n",
            " Layer (type)                Output Shape              Param #   \n",
            "=================================================================\n",
            " embedding (Embedding)       (None, 150, 512)          5120000   \n",
            "                                                                 \n",
            " lstm (LSTM)                 (None, 20)                42640     \n",
            "                                                                 \n",
            " batch_normalization (BatchN  (None, 20)               80        \n",
            " ormalization)                                                   \n",
            "                                                                 \n",
            " dense (Dense)               (None, 8)                 168       \n",
            "                                                                 \n",
            " dense_1 (Dense)             (None, 4)                 36        \n",
            "                                                                 \n",
            " dense_2 (Dense)             (None, 1)                 5         \n",
            "                                                                 \n",
            "=================================================================\n",
            "Total params: 5,162,929\n",
            "Trainable params: 5,162,889\n",
            "Non-trainable params: 40\n",
            "_________________________________________________________________\n",
            "None\n"
          ]
        }
      ],
      "source": [
        "# from tensorflow.keras.initializers import Constant\n",
        "# from tensorflow.keras.optimizers import Adam\n",
        "\n",
        "\n",
        "embedding_mat_col=512\n",
        "\n",
        "# model = Sequential()\n",
        "# model.add(Embedding(input_dim=max_words, output_dim=embedding_mat_col, input_length=max_len))\n",
        "# model.add(SpatialDropout1D(0.4))\n",
        "# model.add(LSTM(50, dropout=0.4, recurrent_dropout=0.4,input_shape=(None, 512)))\n",
        "# model.add(Dense(1,activation='softmax'))\n",
        "\n",
        "# dropout=0.4, recurrent_dropout=0.4, \n",
        "\n",
        "model = tf.keras.models.Sequential([\n",
        "    tf.keras.layers.Embedding(input_dim=max_words, output_dim=embedding_mat_col, input_length=max_len),\n",
        "    tf.keras.layers.LSTM(20, input_shape=(None, 512)),\n",
        "    tf.keras.layers.BatchNormalization(),\n",
        "    tf.keras.layers.Dense(8, activation='relu'),\n",
        "    tf.keras.layers.Dense(4, activation='relu'),\n",
        "    tf.keras.layers.Dense(1, activation='sigmoid')\n",
        "    ])\n",
        "\n",
        "model.compile(loss='binary_crossentropy', optimizer='adam', metrics=['accuracy'])\n",
        "print(model.summary())"
      ]
    },
    {
      "cell_type": "code",
      "execution_count": 19,
      "id": "a872c976",
      "metadata": {
        "colab": {
          "base_uri": "https://localhost:8080/"
        },
        "id": "a872c976",
        "outputId": "8c825674-be69-4cfc-bdb5-ef81b1391db5"
      },
      "outputs": [
        {
          "output_type": "stream",
          "name": "stdout",
          "text": [
            "(28765, 150) (28765,)\n",
            "(3197, 150) (3197,)\n"
          ]
        }
      ],
      "source": [
        "X=sequences_matrix\n",
        "\n",
        "X_train, X_test, Y_train, Y_test = train_test_split(X,Y, test_size = 0.1, random_state = 1, shuffle=True)\n",
        "print(X_train.shape,Y_train.shape)\n",
        "print(X_test.shape,Y_test.shape)"
      ]
    },
    {
      "cell_type": "code",
      "execution_count": 20,
      "id": "b07f119c",
      "metadata": {
        "colab": {
          "base_uri": "https://localhost:8080/"
        },
        "id": "b07f119c",
        "outputId": "45a8f089-519a-48eb-f8dd-e3d12d9ac445"
      },
      "outputs": [
        {
          "output_type": "stream",
          "name": "stdout",
          "text": [
            "899/899 [==============================] - 144s 157ms/step - loss: 0.1769 - accuracy: 0.9484\n"
          ]
        },
        {
          "output_type": "stream",
          "name": "stderr",
          "text": [
            "WARNING:absl:Found untraced functions such as lstm_cell_layer_call_fn, lstm_cell_layer_call_and_return_conditional_losses while saving (showing 2 of 2). These functions will not be directly callable after loading.\n"
          ]
        }
      ],
      "source": [
        "batch_size =32\n",
        "model.fit(X_train, Y_train, epochs = 1, batch_size=batch_size,verbose = 1)\n",
        "\n",
        "pickle.dump(model, open('/content/drive/MyDrive/Colab Notebooks/model_LSTM.pkl','wb'))\n",
        "\n",
        "model = pickle.load(open('/content/drive/MyDrive/Colab Notebooks/model_LSTM.pkl','rb'))"
      ]
    },
    {
      "cell_type": "code",
      "execution_count": 21,
      "id": "71fbb3bc",
      "metadata": {
        "colab": {
          "base_uri": "https://localhost:8080/"
        },
        "id": "71fbb3bc",
        "outputId": "438604e2-4fe8-4967-9a16-be6d9ab84931"
      },
      "outputs": [
        {
          "output_type": "stream",
          "name": "stdout",
          "text": [
            "100/100 [==============================] - 3s 28ms/step\n"
          ]
        }
      ],
      "source": [
        "prediction=model.predict(X_test)"
      ]
    },
    {
      "cell_type": "code",
      "execution_count": 22,
      "id": "41be4a3c",
      "metadata": {
        "colab": {
          "base_uri": "https://localhost:8080/"
        },
        "id": "41be4a3c",
        "outputId": "554b79c6-859b-4524-a0d2-5f9709e1113e"
      },
      "outputs": [
        {
          "output_type": "stream",
          "name": "stdout",
          "text": [
            "Test Accuracy:  92.71191742258367 \n",
            "\n",
            "Confusion Matrix : \n",
            " [[2964    0]\n",
            " [ 233    0]] \n",
            "\n",
            "Classification Report : \n",
            "                precision    recall  f1-score   support\n",
            "\n",
            "           0       0.93      1.00      0.96      2964\n",
            "           1       0.00      0.00      0.00       233\n",
            "\n",
            "    accuracy                           0.93      3197\n",
            "   macro avg       0.46      0.50      0.48      3197\n",
            "weighted avg       0.86      0.93      0.89      3197\n",
            " \n",
            "\n"
          ]
        },
        {
          "output_type": "stream",
          "name": "stderr",
          "text": [
            "/usr/local/lib/python3.7/dist-packages/sklearn/metrics/_classification.py:1318: UndefinedMetricWarning: Precision and F-score are ill-defined and being set to 0.0 in labels with no predicted samples. Use `zero_division` parameter to control this behavior.\n",
            "  _warn_prf(average, modifier, msg_start, len(result))\n",
            "/usr/local/lib/python3.7/dist-packages/sklearn/metrics/_classification.py:1318: UndefinedMetricWarning: Precision and F-score are ill-defined and being set to 0.0 in labels with no predicted samples. Use `zero_division` parameter to control this behavior.\n",
            "  _warn_prf(average, modifier, msg_start, len(result))\n",
            "/usr/local/lib/python3.7/dist-packages/sklearn/metrics/_classification.py:1318: UndefinedMetricWarning: Precision and F-score are ill-defined and being set to 0.0 in labels with no predicted samples. Use `zero_division` parameter to control this behavior.\n",
            "  _warn_prf(average, modifier, msg_start, len(result))\n"
          ]
        }
      ],
      "source": [
        "Hate_Free=[]\n",
        "predictions=[]\n",
        "for itm in prediction:\n",
        "  predictions.append(itm)\n",
        "  # if int(itm)==0:\n",
        "  #     Hate_Free.append(\"Hate_Speech\")\n",
        "  # else:\n",
        "  #     Hate_Free.append(\"Free_Speech\")\n",
        "\n",
        "results = pd.DataFrame({'label':Y_test,'prediction':predictions})\n",
        "results[\"prediction\"]=results[\"prediction\"].astype(int)\n",
        "\n",
        "# print(results.sample(10))\n",
        "# results.info()\n",
        "        \n",
        "  #  astype(str).     \n",
        "print('Test Accuracy: ', accuracy_score(results.label, results.prediction) * 100, '\\n')\n",
        "print('Confusion Matrix : \\n',confusion_matrix(results.label, results.prediction), '\\n')\n",
        "print('Classification Report : \\n ',classification_report(results.label, results.prediction), '\\n')"
      ]
    },
    {
      "cell_type": "markdown",
      "source": [
        "Note: As we mentioned earlier, the Imbalanced data may cause misleading in the training accuracy. This was proven by the above results since the precision in the classification report is high with 0 and null with 1."
      ],
      "metadata": {
        "id": "PsumdH6rsRQu"
      },
      "id": "PsumdH6rsRQu"
    },
    {
      "cell_type": "markdown",
      "source": [
        "# Balance the dataset\n",
        "\n",
        "### Over Sampling"
      ],
      "metadata": {
        "id": "RHjNgqd0tMmv"
      },
      "id": "RHjNgqd0tMmv"
    },
    {
      "cell_type": "code",
      "source": [
        "def oversample(dataset):\n",
        "  \"\"\"Oversample minoriity class because of the imbalance\"\"\"\n",
        "  # Separate majority and minority classes in data for oversampling\n",
        "  majority = dataset[dataset['label'] == 0]\n",
        "  minority = dataset[dataset['label'] == 1]\n",
        "\n",
        "  print(\"majority class before oversample: \", majority.shape)\n",
        "  print(\"minority class before oversample: \", minority.shape)\n",
        "\n",
        "  # Upsample minority class\n",
        "  minority_oversampled = resample(minority, \n",
        "                                 replace=True,      # sample with replacement\n",
        "                                 n_samples= majority.shape[0],  # to match majority class\n",
        "                                 random_state=123)  # reproducible results\n",
        " \n",
        "  # Combine majority class with oversampled minority class\n",
        "  oversampled = pd.concat([majority, minority_oversampled])\n",
        "  # shuffling the data\n",
        "  oversampled = oversampled.sample(frac=1).reset_index(drop=True)\n",
        "  # Display new class counts\n",
        "  print(\"After oversampling\\n\", oversampled.label.value_counts(), sep = \"\")\n",
        "  return oversampled"
      ],
      "metadata": {
        "id": "QNwi2iIrFWhY"
      },
      "id": "QNwi2iIrFWhY",
      "execution_count": 23,
      "outputs": []
    },
    {
      "cell_type": "code",
      "execution_count": 24,
      "id": "eb75345c",
      "metadata": {
        "id": "eb75345c",
        "colab": {
          "base_uri": "https://localhost:8080/",
          "height": 310
        },
        "outputId": "13fe8325-04cd-4957-a214-322ae5cc00fc"
      },
      "outputs": [
        {
          "output_type": "stream",
          "name": "stdout",
          "text": [
            "majority class before oversample:  (29720, 2)\n",
            "minority class before oversample:  (2242, 2)\n",
            "After oversampling\n",
            "0    29720\n",
            "1    29720\n",
            "Name: label, dtype: int64\n"
          ]
        },
        {
          "output_type": "execute_result",
          "data": {
            "text/plain": [
              "                                                                                              tweet  \\\n",
              "0                              love korea instagram instagood girl friend girlfriend love beautiful   \n",
              "1  hatred greed amp destroyed many life mad leadership amp bad government policy destroyed politics   \n",
              "2                                               sea shepherd suppoers racist antiracism seashepherd   \n",
              "3                                             probably closeted posing black man long ago nuff said   \n",
              "4                                       like many people spend thing want spend family societytoday   \n",
              "\n",
              "   label  \n",
              "0      0  \n",
              "1      1  \n",
              "2      1  \n",
              "3      1  \n",
              "4      0  "
            ],
            "text/html": [
              "\n",
              "  <div id=\"df-0378bbc2-333b-4167-8922-3caf549c3db5\">\n",
              "    <div class=\"colab-df-container\">\n",
              "      <div>\n",
              "<style scoped>\n",
              "    .dataframe tbody tr th:only-of-type {\n",
              "        vertical-align: middle;\n",
              "    }\n",
              "\n",
              "    .dataframe tbody tr th {\n",
              "        vertical-align: top;\n",
              "    }\n",
              "\n",
              "    .dataframe thead th {\n",
              "        text-align: right;\n",
              "    }\n",
              "</style>\n",
              "<table border=\"1\" class=\"dataframe\">\n",
              "  <thead>\n",
              "    <tr style=\"text-align: right;\">\n",
              "      <th></th>\n",
              "      <th>tweet</th>\n",
              "      <th>label</th>\n",
              "    </tr>\n",
              "  </thead>\n",
              "  <tbody>\n",
              "    <tr>\n",
              "      <th>0</th>\n",
              "      <td>love korea instagram instagood girl friend girlfriend love beautiful</td>\n",
              "      <td>0</td>\n",
              "    </tr>\n",
              "    <tr>\n",
              "      <th>1</th>\n",
              "      <td>hatred greed amp destroyed many life mad leadership amp bad government policy destroyed politics</td>\n",
              "      <td>1</td>\n",
              "    </tr>\n",
              "    <tr>\n",
              "      <th>2</th>\n",
              "      <td>sea shepherd suppoers racist antiracism seashepherd</td>\n",
              "      <td>1</td>\n",
              "    </tr>\n",
              "    <tr>\n",
              "      <th>3</th>\n",
              "      <td>probably closeted posing black man long ago nuff said</td>\n",
              "      <td>1</td>\n",
              "    </tr>\n",
              "    <tr>\n",
              "      <th>4</th>\n",
              "      <td>like many people spend thing want spend family societytoday</td>\n",
              "      <td>0</td>\n",
              "    </tr>\n",
              "  </tbody>\n",
              "</table>\n",
              "</div>\n",
              "      <button class=\"colab-df-convert\" onclick=\"convertToInteractive('df-0378bbc2-333b-4167-8922-3caf549c3db5')\"\n",
              "              title=\"Convert this dataframe to an interactive table.\"\n",
              "              style=\"display:none;\">\n",
              "        \n",
              "  <svg xmlns=\"http://www.w3.org/2000/svg\" height=\"24px\"viewBox=\"0 0 24 24\"\n",
              "       width=\"24px\">\n",
              "    <path d=\"M0 0h24v24H0V0z\" fill=\"none\"/>\n",
              "    <path d=\"M18.56 5.44l.94 2.06.94-2.06 2.06-.94-2.06-.94-.94-2.06-.94 2.06-2.06.94zm-11 1L8.5 8.5l.94-2.06 2.06-.94-2.06-.94L8.5 2.5l-.94 2.06-2.06.94zm10 10l.94 2.06.94-2.06 2.06-.94-2.06-.94-.94-2.06-.94 2.06-2.06.94z\"/><path d=\"M17.41 7.96l-1.37-1.37c-.4-.4-.92-.59-1.43-.59-.52 0-1.04.2-1.43.59L10.3 9.45l-7.72 7.72c-.78.78-.78 2.05 0 2.83L4 21.41c.39.39.9.59 1.41.59.51 0 1.02-.2 1.41-.59l7.78-7.78 2.81-2.81c.8-.78.8-2.07 0-2.86zM5.41 20L4 18.59l7.72-7.72 1.47 1.35L5.41 20z\"/>\n",
              "  </svg>\n",
              "      </button>\n",
              "      \n",
              "  <style>\n",
              "    .colab-df-container {\n",
              "      display:flex;\n",
              "      flex-wrap:wrap;\n",
              "      gap: 12px;\n",
              "    }\n",
              "\n",
              "    .colab-df-convert {\n",
              "      background-color: #E8F0FE;\n",
              "      border: none;\n",
              "      border-radius: 50%;\n",
              "      cursor: pointer;\n",
              "      display: none;\n",
              "      fill: #1967D2;\n",
              "      height: 32px;\n",
              "      padding: 0 0 0 0;\n",
              "      width: 32px;\n",
              "    }\n",
              "\n",
              "    .colab-df-convert:hover {\n",
              "      background-color: #E2EBFA;\n",
              "      box-shadow: 0px 1px 2px rgba(60, 64, 67, 0.3), 0px 1px 3px 1px rgba(60, 64, 67, 0.15);\n",
              "      fill: #174EA6;\n",
              "    }\n",
              "\n",
              "    [theme=dark] .colab-df-convert {\n",
              "      background-color: #3B4455;\n",
              "      fill: #D2E3FC;\n",
              "    }\n",
              "\n",
              "    [theme=dark] .colab-df-convert:hover {\n",
              "      background-color: #434B5C;\n",
              "      box-shadow: 0px 1px 3px 1px rgba(0, 0, 0, 0.15);\n",
              "      filter: drop-shadow(0px 1px 2px rgba(0, 0, 0, 0.3));\n",
              "      fill: #FFFFFF;\n",
              "    }\n",
              "  </style>\n",
              "\n",
              "      <script>\n",
              "        const buttonEl =\n",
              "          document.querySelector('#df-0378bbc2-333b-4167-8922-3caf549c3db5 button.colab-df-convert');\n",
              "        buttonEl.style.display =\n",
              "          google.colab.kernel.accessAllowed ? 'block' : 'none';\n",
              "\n",
              "        async function convertToInteractive(key) {\n",
              "          const element = document.querySelector('#df-0378bbc2-333b-4167-8922-3caf549c3db5');\n",
              "          const dataTable =\n",
              "            await google.colab.kernel.invokeFunction('convertToInteractive',\n",
              "                                                     [key], {});\n",
              "          if (!dataTable) return;\n",
              "\n",
              "          const docLinkHtml = 'Like what you see? Visit the ' +\n",
              "            '<a target=\"_blank\" href=https://colab.research.google.com/notebooks/data_table.ipynb>data table notebook</a>'\n",
              "            + ' to learn more about interactive tables.';\n",
              "          element.innerHTML = '';\n",
              "          dataTable['output_type'] = 'display_data';\n",
              "          await google.colab.output.renderOutput(dataTable, element);\n",
              "          const docLink = document.createElement('div');\n",
              "          docLink.innerHTML = docLinkHtml;\n",
              "          element.appendChild(docLink);\n",
              "        }\n",
              "      </script>\n",
              "    </div>\n",
              "  </div>\n",
              "  "
            ]
          },
          "metadata": {},
          "execution_count": 24
        }
      ],
      "source": [
        "X=df['cleaned_phrase'].values\n",
        "Y=df['label'].values\n",
        "# X_train, X_test, Y_train, Y_test = train_test_split(X,Y, stratify=Y,test_size = 0.01, random_state = 1, shuffle=True)\n",
        "\n",
        "train_over = oversample(pd.DataFrame({\"tweet\": X, \"label\": Y}))\n",
        "train_over.head()"
      ]
    },
    {
      "cell_type": "code",
      "execution_count": 36,
      "id": "9bac3439",
      "metadata": {
        "id": "9bac3439"
      },
      "outputs": [],
      "source": [
        "X = train_over[\"tweet\"]\n",
        "Y = train_over[\"label\"].to_numpy()\n",
        "\n",
        "max_words = 10000\n",
        "max_len = 150\n",
        "tok = Tokenizer(num_words=max_words)\n",
        "tok.fit_on_texts(X)\n",
        "sequences = tok.texts_to_sequences(X)\n",
        "X = pad_sequences(sequences,maxlen=max_len)"
      ]
    },
    {
      "cell_type": "markdown",
      "source": [
        "# LSTM for balanced dataset"
      ],
      "metadata": {
        "id": "AJnzleMlEAfa"
      },
      "id": "AJnzleMlEAfa"
    },
    {
      "cell_type": "code",
      "execution_count": 37,
      "id": "6226c52a",
      "metadata": {
        "id": "6226c52a",
        "colab": {
          "base_uri": "https://localhost:8080/"
        },
        "outputId": "2e4ea0b1-40f1-48b3-b46d-e64a82f81f33"
      },
      "outputs": [
        {
          "output_type": "stream",
          "name": "stdout",
          "text": [
            "Model: \"sequential_1\"\n",
            "_________________________________________________________________\n",
            " Layer (type)                Output Shape              Param #   \n",
            "=================================================================\n",
            " embedding_1 (Embedding)     (None, 150, 512)          5120000   \n",
            "                                                                 \n",
            " lstm_1 (LSTM)               (None, 20)                42640     \n",
            "                                                                 \n",
            " batch_normalization_1 (Batc  (None, 20)               80        \n",
            " hNormalization)                                                 \n",
            "                                                                 \n",
            " dense_3 (Dense)             (None, 8)                 168       \n",
            "                                                                 \n",
            " dense_4 (Dense)             (None, 4)                 36        \n",
            "                                                                 \n",
            " dense_5 (Dense)             (None, 1)                 5         \n",
            "                                                                 \n",
            "=================================================================\n",
            "Total params: 5,162,929\n",
            "Trainable params: 5,162,889\n",
            "Non-trainable params: 40\n",
            "_________________________________________________________________\n",
            "None\n",
            "1672/1672 [==============================] - 258s 153ms/step - loss: 0.1300 - accuracy: 0.9492\n"
          ]
        },
        {
          "output_type": "stream",
          "name": "stderr",
          "text": [
            "WARNING:absl:Found untraced functions such as lstm_cell_3_layer_call_fn, lstm_cell_3_layer_call_and_return_conditional_losses while saving (showing 2 of 2). These functions will not be directly callable after loading.\n"
          ]
        }
      ],
      "source": [
        "X_train, X_test, Y_train, Y_test = train_test_split(X,Y, test_size = 0.1, random_state = 1, shuffle=True)\n",
        "\n",
        "\n",
        "\n",
        "embedding_mat_col=512\n",
        "\n",
        "\n",
        "model1 = tf.keras.models.Sequential([\n",
        "    tf.keras.layers.Embedding(input_dim=max_words, output_dim=embedding_mat_col, input_length=max_len),\n",
        "    tf.keras.layers.LSTM(20, input_shape=(None, 512)),\n",
        "    tf.keras.layers.BatchNormalization(),\n",
        "    tf.keras.layers.Dense(8, activation='relu'),\n",
        "    tf.keras.layers.Dense(4, activation='relu'),\n",
        "    tf.keras.layers.Dense(1, activation='sigmoid')\n",
        "    ])\n",
        "\n",
        "model1.compile(loss='binary_crossentropy', optimizer='adam', metrics=['accuracy'])\n",
        "print(model1.summary())\n",
        "\n",
        "model1.fit(X_train, Y_train, epochs = 1, batch_size=batch_size,verbose = 1)\n",
        "\n",
        "pickle.dump(model1, open('/content/drive/MyDrive/Colab Notebooks/model_LSTM.pkl','wb'))\n",
        "model1 = pickle.load(open('/content/drive/MyDrive/Colab Notebooks/model_LSTM.pkl','rb'))"
      ]
    },
    {
      "cell_type": "code",
      "source": [
        "prediction=model1.predict(X_test)"
      ],
      "metadata": {
        "colab": {
          "base_uri": "https://localhost:8080/"
        },
        "id": "YA8NiskeDh-K",
        "outputId": "69f5b331-6277-4e74-e1bb-b5b8fe76d91a"
      },
      "id": "YA8NiskeDh-K",
      "execution_count": 38,
      "outputs": [
        {
          "output_type": "stream",
          "name": "stdout",
          "text": [
            "186/186 [==============================] - 6s 28ms/step\n"
          ]
        }
      ]
    },
    {
      "cell_type": "code",
      "source": [
        "Hate_Free=[]\n",
        "predictions=[]\n",
        "for itm in prediction:\n",
        "  predictions.append(itm)\n",
        "\n",
        "results = pd.DataFrame({'label':Y_test,'prediction':predictions})\n",
        "results[\"prediction\"]=results[\"prediction\"].astype(int)\n",
        "\n",
        "print('Test Accuracy: ', accuracy_score(results.label, results.prediction) * 100, '\\n')\n",
        "print('Confusion Matrix : \\n',confusion_matrix(results.label, results.prediction), '\\n')\n",
        "print('Classification Report : \\n ',classification_report(results.label, results.prediction), '\\n')"
      ],
      "metadata": {
        "colab": {
          "base_uri": "https://localhost:8080/"
        },
        "id": "Z6kou1oRDh7X",
        "outputId": "d8059ef9-bf0d-4853-e562-4a84e404bee2"
      },
      "id": "Z6kou1oRDh7X",
      "execution_count": 39,
      "outputs": [
        {
          "output_type": "stream",
          "name": "stdout",
          "text": [
            "Test Accuracy:  49.96635262449529 \n",
            "\n",
            "Confusion Matrix : \n",
            " [[2970    0]\n",
            " [2974    0]] \n",
            "\n",
            "Classification Report : \n",
            "                precision    recall  f1-score   support\n",
            "\n",
            "           0       0.50      1.00      0.67      2970\n",
            "           1       0.00      0.00      0.00      2974\n",
            "\n",
            "    accuracy                           0.50      5944\n",
            "   macro avg       0.25      0.50      0.33      5944\n",
            "weighted avg       0.25      0.50      0.33      5944\n",
            " \n",
            "\n"
          ]
        },
        {
          "output_type": "stream",
          "name": "stderr",
          "text": [
            "/usr/local/lib/python3.7/dist-packages/sklearn/metrics/_classification.py:1318: UndefinedMetricWarning: Precision and F-score are ill-defined and being set to 0.0 in labels with no predicted samples. Use `zero_division` parameter to control this behavior.\n",
            "  _warn_prf(average, modifier, msg_start, len(result))\n",
            "/usr/local/lib/python3.7/dist-packages/sklearn/metrics/_classification.py:1318: UndefinedMetricWarning: Precision and F-score are ill-defined and being set to 0.0 in labels with no predicted samples. Use `zero_division` parameter to control this behavior.\n",
            "  _warn_prf(average, modifier, msg_start, len(result))\n",
            "/usr/local/lib/python3.7/dist-packages/sklearn/metrics/_classification.py:1318: UndefinedMetricWarning: Precision and F-score are ill-defined and being set to 0.0 in labels with no predicted samples. Use `zero_division` parameter to control this behavior.\n",
            "  _warn_prf(average, modifier, msg_start, len(result))\n"
          ]
        }
      ]
    },
    {
      "cell_type": "code",
      "source": [
        "# print(results.sample(10))"
      ],
      "metadata": {
        "id": "Luo5ITsFDh4p"
      },
      "id": "Luo5ITsFDh4p",
      "execution_count": 41,
      "outputs": []
    },
    {
      "cell_type": "code",
      "source": [],
      "metadata": {
        "id": "UxzDAJMSDhv3"
      },
      "id": "UxzDAJMSDhv3",
      "execution_count": null,
      "outputs": []
    },
    {
      "cell_type": "markdown",
      "id": "10f0c14b",
      "metadata": {
        "id": "10f0c14b"
      },
      "source": [
        "### Visualizations\n",
        "\n",
        "Visualizing which of the word is most commonly used in the twitter dataset"
      ]
    },
    {
      "cell_type": "code",
      "execution_count": null,
      "id": "c1a654b4",
      "metadata": {
        "id": "c1a654b4"
      },
      "outputs": [],
      "source": [
        "# imshow-Display data as an image\n",
        "# interpolation - https://matplotlib.org/3.2.1/gallery/images_contours_and_fields/interpolation_methods.html\n",
        "all_words = ' '.join([text for text in df['cleaned_phrase'] ])\n",
        "\n",
        "wordcloud = WordCloud(width=800, \n",
        "                      height=500, \n",
        "                      random_state=21, \n",
        "                      max_font_size=110).generate(all_words)\n",
        "\n",
        "plt.figure(figsize=(10, 7))\n",
        "plt.imshow(wordcloud, interpolation=\"bilinear\")\n",
        "plt.axis('off')\n",
        "plt.show()"
      ]
    },
    {
      "cell_type": "markdown",
      "id": "ffaebd4e",
      "metadata": {
        "id": "ffaebd4e"
      },
      "source": [
        "Visualizing which of the word is most commonly used for hate speech"
      ]
    },
    {
      "cell_type": "code",
      "execution_count": null,
      "id": "7ac13d39",
      "metadata": {
        "id": "7ac13d39"
      },
      "outputs": [],
      "source": [
        "hate_words = ' '.join([text for text in df['cleaned_phrase'][df['label'] == 1]])\n",
        "wordcloud = WordCloud(width=800, \n",
        "                      height=500,\n",
        "                      random_state=21, \n",
        "                      max_font_size=110).generate(hate_words)\n",
        "plt.figure(figsize=(10, 7))\n",
        "plt.imshow(wordcloud, interpolation=\"bilinear\")\n",
        "plt.axis('off')\n",
        "plt.show()"
      ]
    },
    {
      "cell_type": "markdown",
      "id": "08f94436",
      "metadata": {
        "id": "08f94436"
      },
      "source": [
        "Visualizing which of the word is most commonly used for free speech"
      ]
    },
    {
      "cell_type": "code",
      "execution_count": null,
      "id": "cd44edd0",
      "metadata": {
        "id": "cd44edd0"
      },
      "outputs": [],
      "source": [
        "free_words = ' '.join([text for text in df['cleaned_phrase'][df['label'] == 0]])\n",
        "wordcloud = WordCloud(width=800, \n",
        "                      height=500,\n",
        "                      random_state=21, \n",
        "                      max_font_size=110).generate(free_words)\n",
        "plt.figure(figsize=(10, 7))\n",
        "plt.imshow(wordcloud, interpolation=\"bilinear\")\n",
        "plt.axis('off')\n",
        "plt.show()"
      ]
    },
    {
      "cell_type": "code",
      "execution_count": null,
      "id": "8c8d861e",
      "metadata": {
        "id": "8c8d861e"
      },
      "outputs": [],
      "source": []
    }
  ],
  "metadata": {
    "kernelspec": {
      "display_name": "Python 3 (ipykernel)",
      "language": "python",
      "name": "python3"
    },
    "language_info": {
      "codemirror_mode": {
        "name": "ipython",
        "version": 3
      },
      "file_extension": ".py",
      "mimetype": "text/x-python",
      "name": "python",
      "nbconvert_exporter": "python",
      "pygments_lexer": "ipython3",
      "version": "3.10.6"
    },
    "colab": {
      "provenance": [],
      "collapsed_sections": [],
      "toc_visible": true,
      "include_colab_link": true
    },
    "accelerator": "TPU"
  },
  "nbformat": 4,
  "nbformat_minor": 5
}